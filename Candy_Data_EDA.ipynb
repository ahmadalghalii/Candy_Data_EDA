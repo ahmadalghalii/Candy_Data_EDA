{
 "cells": [
  {
   "cell_type": "markdown",
   "id": "195b35d1",
   "metadata": {
    "id": "195b35d1"
   },
   "source": [
    "# Import libraries "
   ]
  },
  {
   "cell_type": "code",
   "execution_count": 1,
   "id": "87fff73f",
   "metadata": {
    "colab": {
     "base_uri": "https://localhost:8080/"
    },
    "id": "87fff73f",
    "outputId": "edc9467f-c66c-4472-b45a-fa5304dead76"
   },
   "outputs": [
    {
     "name": "stdout",
     "output_type": "stream",
     "text": [
      "Requirement already satisfied: fuzzywuzzy in e:\\new folder\\lib\\site-packages (0.18.0)\n",
      "Note: you may need to restart the kernel to use updated packages.\n"
     ]
    }
   ],
   "source": [
    "%pip install fuzzywuzzy\n",
    "import pandas as pd\n",
    "import numpy as np\n",
    "from fuzzywuzzy import process,fuzz\n",
    "import seaborn as sns\n",
    "import matplotlib.pyplot as plt"
   ]
  },
  {
   "cell_type": "markdown",
   "id": "7324566d",
   "metadata": {
    "id": "7324566d"
   },
   "source": [
    "# Remove warnings"
   ]
  },
  {
   "cell_type": "code",
   "execution_count": 2,
   "id": "fc8bf97c",
   "metadata": {
    "id": "fc8bf97c"
   },
   "outputs": [],
   "source": [
    "import warnings\n",
    "warnings.simplefilter('ignore')"
   ]
  },
  {
   "cell_type": "markdown",
   "id": "d45143b2",
   "metadata": {
    "id": "d45143b2"
   },
   "source": [
    "# figures size"
   ]
  },
  {
   "cell_type": "code",
   "execution_count": 3,
   "id": "264623fb",
   "metadata": {
    "id": "264623fb"
   },
   "outputs": [],
   "source": [
    "from matplotlib import rcParams\n",
    "rcParams['figure.figsize'] = (16,6)\n",
    "sns.set_style('darkgrid')"
   ]
  },
  {
   "cell_type": "markdown",
   "id": "d6505409",
   "metadata": {
    "id": "d6505409"
   },
   "source": [
    "# Dataset"
   ]
  },
  {
   "cell_type": "code",
   "execution_count": 4,
   "id": "ce01003e",
   "metadata": {
    "id": "ce01003e"
   },
   "outputs": [],
   "source": [
    "pd.set_option(\"display.max_columns\",None)"
   ]
  },
  {
   "cell_type": "code",
   "execution_count": 5,
   "id": "22a72982",
   "metadata": {
    "colab": {
     "base_uri": "https://localhost:8080/",
     "height": 704
    },
    "id": "22a72982",
    "outputId": "ab187db2-9c00-4c16-81cd-e99f620f3774"
   },
   "outputs": [
    {
     "data": {
      "text/html": [
       "<div>\n",
       "<style scoped>\n",
       "    .dataframe tbody tr th:only-of-type {\n",
       "        vertical-align: middle;\n",
       "    }\n",
       "\n",
       "    .dataframe tbody tr th {\n",
       "        vertical-align: top;\n",
       "    }\n",
       "\n",
       "    .dataframe thead th {\n",
       "        text-align: right;\n",
       "    }\n",
       "</style>\n",
       "<table border=\"1\" class=\"dataframe\">\n",
       "  <thead>\n",
       "    <tr style=\"text-align: right;\">\n",
       "      <th></th>\n",
       "      <th>Internal ID</th>\n",
       "      <th>Q1: GOING OUT?</th>\n",
       "      <th>Q2: GENDER</th>\n",
       "      <th>Q3: AGE</th>\n",
       "      <th>Q4: COUNTRY</th>\n",
       "      <th>Q5: STATE, PROVINCE, COUNTY, ETC</th>\n",
       "      <th>Q6 | 100 Grand Bar</th>\n",
       "      <th>Q6 | Anonymous brown globs that come in black and orange wrappers\\t(a.k.a. Mary Janes)</th>\n",
       "      <th>Q6 | Any full-sized candy bar</th>\n",
       "      <th>Q6 | Black Jacks</th>\n",
       "      <th>Q6 | Bonkers (the candy)</th>\n",
       "      <th>Q6 | Bonkers (the board game)</th>\n",
       "      <th>Q6 | Bottle Caps</th>\n",
       "      <th>Q6 | Box'o'Raisins</th>\n",
       "      <th>Q6 | Broken glow stick</th>\n",
       "      <th>Q6 | Butterfinger</th>\n",
       "      <th>Q6 | Cadbury Creme Eggs</th>\n",
       "      <th>Q6 | Candy Corn</th>\n",
       "      <th>Q6 | Candy that is clearly just the stuff given out for free at restaurants</th>\n",
       "      <th>Q6 | Caramellos</th>\n",
       "      <th>Q6 | Cash, or other forms of legal tender</th>\n",
       "      <th>Q6 | Chardonnay</th>\n",
       "      <th>Q6 | Chick-o-Sticks (we don’t know what that is)</th>\n",
       "      <th>Q6 | Chiclets</th>\n",
       "      <th>Q6 | Coffee Crisp</th>\n",
       "      <th>Q6 | Creepy Religious comics/Chick Tracts</th>\n",
       "      <th>Q6 | Dental paraphenalia</th>\n",
       "      <th>Q6 | Dots</th>\n",
       "      <th>Q6 | Dove Bars</th>\n",
       "      <th>Q6 | Fuzzy Peaches</th>\n",
       "      <th>Q6 | Generic Brand Acetaminophen</th>\n",
       "      <th>Q6 | Glow sticks</th>\n",
       "      <th>Q6 | Goo Goo Clusters</th>\n",
       "      <th>Q6 | Good N' Plenty</th>\n",
       "      <th>Q6 | Gum from baseball cards</th>\n",
       "      <th>Q6 | Gummy Bears straight up</th>\n",
       "      <th>Q6 | Hard Candy</th>\n",
       "      <th>Q6 | Healthy Fruit</th>\n",
       "      <th>Q6 | Heath Bar</th>\n",
       "      <th>Q6 | Hershey's Dark Chocolate</th>\n",
       "      <th>Q6 | Hershey’s Milk Chocolate</th>\n",
       "      <th>Q6 | Hershey's Kisses</th>\n",
       "      <th>Q6 | Hugs (actual physical hugs)</th>\n",
       "      <th>Q6 | Jolly Rancher (bad flavor)</th>\n",
       "      <th>Q6 | Jolly Ranchers (good flavor)</th>\n",
       "      <th>Q6 | JoyJoy (Mit Iodine!)</th>\n",
       "      <th>Q6 | Junior Mints</th>\n",
       "      <th>Q6 | Senior Mints</th>\n",
       "      <th>Q6 | Kale smoothie</th>\n",
       "      <th>Q6 | Kinder Happy Hippo</th>\n",
       "      <th>Q6 | Kit Kat</th>\n",
       "      <th>Q6 | LaffyTaffy</th>\n",
       "      <th>Q6 | LemonHeads</th>\n",
       "      <th>Q6 | Licorice (not black)</th>\n",
       "      <th>Q6 | Licorice (yes black)</th>\n",
       "      <th>Q6 | Lindt Truffle</th>\n",
       "      <th>Q6 | Lollipops</th>\n",
       "      <th>Q6 | Mars</th>\n",
       "      <th>Q6 | Maynards</th>\n",
       "      <th>Q6 | Mike and Ike</th>\n",
       "      <th>Q6 | Milk Duds</th>\n",
       "      <th>Q6 | Milky Way</th>\n",
       "      <th>Q6 | Regular M&amp;Ms</th>\n",
       "      <th>Q6 | Peanut M&amp;M’s</th>\n",
       "      <th>Q6 | Blue M&amp;M's</th>\n",
       "      <th>Q6 | Red M&amp;M's</th>\n",
       "      <th>Q6 | Green Party M&amp;M's</th>\n",
       "      <th>Q6 | Independent M&amp;M's</th>\n",
       "      <th>Q6 | Abstained from M&amp;M'ing.</th>\n",
       "      <th>Q6 | Minibags of chips</th>\n",
       "      <th>Q6 | Mint Kisses</th>\n",
       "      <th>Q6 | Mint Juleps</th>\n",
       "      <th>Q6 | Mr. Goodbar</th>\n",
       "      <th>Q6 | Necco Wafers</th>\n",
       "      <th>Q6 | Nerds</th>\n",
       "      <th>Q6 | Nestle Crunch</th>\n",
       "      <th>Q6 | Now'n'Laters</th>\n",
       "      <th>Q6 | Peeps</th>\n",
       "      <th>Q6 | Pencils</th>\n",
       "      <th>Q6 | Pixy Stix</th>\n",
       "      <th>Q6 | Real Housewives of Orange County Season 9 Blue-Ray</th>\n",
       "      <th>Q6 | Reese’s Peanut Butter Cups</th>\n",
       "      <th>Q6 | Reese's Pieces</th>\n",
       "      <th>Q6 | Reggie Jackson Bar</th>\n",
       "      <th>Q6 | Rolos</th>\n",
       "      <th>Q6 | Sandwich-sized bags filled with BooBerry Crunch</th>\n",
       "      <th>Q6 | Skittles</th>\n",
       "      <th>Q6 | Smarties (American)</th>\n",
       "      <th>Q6 | Smarties (Commonwealth)</th>\n",
       "      <th>Q6 | Snickers</th>\n",
       "      <th>Q6 | Sourpatch Kids (i.e. abominations of nature)</th>\n",
       "      <th>Q6 | Spotted Dick</th>\n",
       "      <th>Q6 | Starburst</th>\n",
       "      <th>Q6 | Sweet Tarts</th>\n",
       "      <th>Q6 | Swedish Fish</th>\n",
       "      <th>Q6 | Sweetums (a friend to diabetes)</th>\n",
       "      <th>Q6 | Take 5</th>\n",
       "      <th>Q6 | Tic Tacs</th>\n",
       "      <th>Q6 | Those odd marshmallow circus peanut things</th>\n",
       "      <th>Q6 | Three Musketeers</th>\n",
       "      <th>Q6 | Tolberone something or other</th>\n",
       "      <th>Q6 | Trail Mix</th>\n",
       "      <th>Q6 | Twix</th>\n",
       "      <th>Q6 | Vials of pure high fructose corn syrup, for main-lining into your vein</th>\n",
       "      <th>Q6 | Vicodin</th>\n",
       "      <th>Q6 | Whatchamacallit Bars</th>\n",
       "      <th>Q6 | White Bread</th>\n",
       "      <th>Q6 | Whole Wheat anything</th>\n",
       "      <th>Q6 | York Peppermint Patties</th>\n",
       "      <th>Q7: JOY OTHER</th>\n",
       "      <th>Q8: DESPAIR OTHER</th>\n",
       "      <th>Q9: OTHER COMMENTS</th>\n",
       "      <th>Q10: DRESS</th>\n",
       "      <th>Unnamed: 113</th>\n",
       "      <th>Q11: DAY</th>\n",
       "      <th>Q12: MEDIA [Daily Dish]</th>\n",
       "      <th>Q12: MEDIA [Science]</th>\n",
       "      <th>Q12: MEDIA [ESPN]</th>\n",
       "      <th>Q12: MEDIA [Yahoo]</th>\n",
       "      <th>Click Coordinates (x, y)</th>\n",
       "    </tr>\n",
       "  </thead>\n",
       "  <tbody>\n",
       "    <tr>\n",
       "      <th>0</th>\n",
       "      <td>90258773</td>\n",
       "      <td>NaN</td>\n",
       "      <td>NaN</td>\n",
       "      <td>NaN</td>\n",
       "      <td>NaN</td>\n",
       "      <td>NaN</td>\n",
       "      <td>NaN</td>\n",
       "      <td>NaN</td>\n",
       "      <td>NaN</td>\n",
       "      <td>NaN</td>\n",
       "      <td>NaN</td>\n",
       "      <td>NaN</td>\n",
       "      <td>NaN</td>\n",
       "      <td>NaN</td>\n",
       "      <td>NaN</td>\n",
       "      <td>NaN</td>\n",
       "      <td>NaN</td>\n",
       "      <td>NaN</td>\n",
       "      <td>NaN</td>\n",
       "      <td>NaN</td>\n",
       "      <td>NaN</td>\n",
       "      <td>NaN</td>\n",
       "      <td>NaN</td>\n",
       "      <td>NaN</td>\n",
       "      <td>NaN</td>\n",
       "      <td>NaN</td>\n",
       "      <td>NaN</td>\n",
       "      <td>NaN</td>\n",
       "      <td>NaN</td>\n",
       "      <td>NaN</td>\n",
       "      <td>NaN</td>\n",
       "      <td>NaN</td>\n",
       "      <td>NaN</td>\n",
       "      <td>NaN</td>\n",
       "      <td>NaN</td>\n",
       "      <td>NaN</td>\n",
       "      <td>NaN</td>\n",
       "      <td>NaN</td>\n",
       "      <td>NaN</td>\n",
       "      <td>NaN</td>\n",
       "      <td>NaN</td>\n",
       "      <td>NaN</td>\n",
       "      <td>NaN</td>\n",
       "      <td>NaN</td>\n",
       "      <td>NaN</td>\n",
       "      <td>NaN</td>\n",
       "      <td>NaN</td>\n",
       "      <td>NaN</td>\n",
       "      <td>NaN</td>\n",
       "      <td>NaN</td>\n",
       "      <td>NaN</td>\n",
       "      <td>NaN</td>\n",
       "      <td>NaN</td>\n",
       "      <td>NaN</td>\n",
       "      <td>NaN</td>\n",
       "      <td>NaN</td>\n",
       "      <td>NaN</td>\n",
       "      <td>NaN</td>\n",
       "      <td>NaN</td>\n",
       "      <td>NaN</td>\n",
       "      <td>NaN</td>\n",
       "      <td>NaN</td>\n",
       "      <td>NaN</td>\n",
       "      <td>NaN</td>\n",
       "      <td>NaN</td>\n",
       "      <td>NaN</td>\n",
       "      <td>NaN</td>\n",
       "      <td>NaN</td>\n",
       "      <td>NaN</td>\n",
       "      <td>NaN</td>\n",
       "      <td>NaN</td>\n",
       "      <td>NaN</td>\n",
       "      <td>NaN</td>\n",
       "      <td>NaN</td>\n",
       "      <td>NaN</td>\n",
       "      <td>NaN</td>\n",
       "      <td>NaN</td>\n",
       "      <td>NaN</td>\n",
       "      <td>NaN</td>\n",
       "      <td>NaN</td>\n",
       "      <td>NaN</td>\n",
       "      <td>NaN</td>\n",
       "      <td>NaN</td>\n",
       "      <td>NaN</td>\n",
       "      <td>NaN</td>\n",
       "      <td>NaN</td>\n",
       "      <td>NaN</td>\n",
       "      <td>NaN</td>\n",
       "      <td>NaN</td>\n",
       "      <td>NaN</td>\n",
       "      <td>NaN</td>\n",
       "      <td>NaN</td>\n",
       "      <td>NaN</td>\n",
       "      <td>NaN</td>\n",
       "      <td>NaN</td>\n",
       "      <td>NaN</td>\n",
       "      <td>NaN</td>\n",
       "      <td>NaN</td>\n",
       "      <td>NaN</td>\n",
       "      <td>NaN</td>\n",
       "      <td>NaN</td>\n",
       "      <td>NaN</td>\n",
       "      <td>NaN</td>\n",
       "      <td>NaN</td>\n",
       "      <td>NaN</td>\n",
       "      <td>NaN</td>\n",
       "      <td>NaN</td>\n",
       "      <td>NaN</td>\n",
       "      <td>NaN</td>\n",
       "      <td>NaN</td>\n",
       "      <td>NaN</td>\n",
       "      <td>NaN</td>\n",
       "      <td>NaN</td>\n",
       "      <td>NaN</td>\n",
       "      <td>NaN</td>\n",
       "      <td>NaN</td>\n",
       "      <td>NaN</td>\n",
       "      <td>NaN</td>\n",
       "      <td>NaN</td>\n",
       "      <td>NaN</td>\n",
       "    </tr>\n",
       "    <tr>\n",
       "      <th>1</th>\n",
       "      <td>90272821</td>\n",
       "      <td>No</td>\n",
       "      <td>Male</td>\n",
       "      <td>44</td>\n",
       "      <td>USA</td>\n",
       "      <td>NM</td>\n",
       "      <td>MEH</td>\n",
       "      <td>DESPAIR</td>\n",
       "      <td>JOY</td>\n",
       "      <td>MEH</td>\n",
       "      <td>DESPAIR</td>\n",
       "      <td>DESPAIR</td>\n",
       "      <td>DESPAIR</td>\n",
       "      <td>DESPAIR</td>\n",
       "      <td>DESPAIR</td>\n",
       "      <td>DESPAIR</td>\n",
       "      <td>MEH</td>\n",
       "      <td>MEH</td>\n",
       "      <td>DESPAIR</td>\n",
       "      <td>MEH</td>\n",
       "      <td>JOY</td>\n",
       "      <td>MEH</td>\n",
       "      <td>DESPAIR</td>\n",
       "      <td>DESPAIR</td>\n",
       "      <td>DESPAIR</td>\n",
       "      <td>DESPAIR</td>\n",
       "      <td>DESPAIR</td>\n",
       "      <td>MEH</td>\n",
       "      <td>JOY</td>\n",
       "      <td>DESPAIR</td>\n",
       "      <td>DESPAIR</td>\n",
       "      <td>DESPAIR</td>\n",
       "      <td>DESPAIR</td>\n",
       "      <td>MEH</td>\n",
       "      <td>DESPAIR</td>\n",
       "      <td>MEH</td>\n",
       "      <td>MEH</td>\n",
       "      <td>DESPAIR</td>\n",
       "      <td>MEH</td>\n",
       "      <td>JOY</td>\n",
       "      <td>JOY</td>\n",
       "      <td>MEH</td>\n",
       "      <td>DESPAIR</td>\n",
       "      <td>DESPAIR</td>\n",
       "      <td>MEH</td>\n",
       "      <td>DESPAIR</td>\n",
       "      <td>DESPAIR</td>\n",
       "      <td>DESPAIR</td>\n",
       "      <td>DESPAIR</td>\n",
       "      <td>DESPAIR</td>\n",
       "      <td>JOY</td>\n",
       "      <td>DESPAIR</td>\n",
       "      <td>MEH</td>\n",
       "      <td>MEH</td>\n",
       "      <td>JOY</td>\n",
       "      <td>MEH</td>\n",
       "      <td>DESPAIR</td>\n",
       "      <td>DESPAIR</td>\n",
       "      <td>DESPAIR</td>\n",
       "      <td>MEH</td>\n",
       "      <td>MEH</td>\n",
       "      <td>JOY</td>\n",
       "      <td>JOY</td>\n",
       "      <td>MEH</td>\n",
       "      <td>JOY</td>\n",
       "      <td>JOY</td>\n",
       "      <td>JOY</td>\n",
       "      <td>JOY</td>\n",
       "      <td>DESPAIR</td>\n",
       "      <td>DESPAIR</td>\n",
       "      <td>MEH</td>\n",
       "      <td>DESPAIR</td>\n",
       "      <td>DESPAIR</td>\n",
       "      <td>DESPAIR</td>\n",
       "      <td>DESPAIR</td>\n",
       "      <td>JOY</td>\n",
       "      <td>DESPAIR</td>\n",
       "      <td>DESPAIR</td>\n",
       "      <td>DESPAIR</td>\n",
       "      <td>DESPAIR</td>\n",
       "      <td>DESPAIR</td>\n",
       "      <td>JOY</td>\n",
       "      <td>JOY</td>\n",
       "      <td>DESPAIR</td>\n",
       "      <td>JOY</td>\n",
       "      <td>DESPAIR</td>\n",
       "      <td>DESPAIR</td>\n",
       "      <td>DESPAIR</td>\n",
       "      <td>DESPAIR</td>\n",
       "      <td>MEH</td>\n",
       "      <td>DESPAIR</td>\n",
       "      <td>DESPAIR</td>\n",
       "      <td>MEH</td>\n",
       "      <td>DESPAIR</td>\n",
       "      <td>MEH</td>\n",
       "      <td>DESPAIR</td>\n",
       "      <td>DESPAIR</td>\n",
       "      <td>DESPAIR</td>\n",
       "      <td>DESPAIR</td>\n",
       "      <td>JOY</td>\n",
       "      <td>JOY</td>\n",
       "      <td>DESPAIR</td>\n",
       "      <td>JOY</td>\n",
       "      <td>DESPAIR</td>\n",
       "      <td>DESPAIR</td>\n",
       "      <td>DESPAIR</td>\n",
       "      <td>DESPAIR</td>\n",
       "      <td>DESPAIR</td>\n",
       "      <td>DESPAIR</td>\n",
       "      <td>Mounds</td>\n",
       "      <td>NaN</td>\n",
       "      <td>Bottom line is Twix is really the only candy w...</td>\n",
       "      <td>White and gold</td>\n",
       "      <td>NaN</td>\n",
       "      <td>Sunday</td>\n",
       "      <td>NaN</td>\n",
       "      <td>1.0</td>\n",
       "      <td>NaN</td>\n",
       "      <td>NaN</td>\n",
       "      <td>(84, 25)</td>\n",
       "    </tr>\n",
       "    <tr>\n",
       "      <th>2</th>\n",
       "      <td>90272829</td>\n",
       "      <td>NaN</td>\n",
       "      <td>Male</td>\n",
       "      <td>49</td>\n",
       "      <td>USA</td>\n",
       "      <td>Virginia</td>\n",
       "      <td>NaN</td>\n",
       "      <td>NaN</td>\n",
       "      <td>NaN</td>\n",
       "      <td>NaN</td>\n",
       "      <td>NaN</td>\n",
       "      <td>NaN</td>\n",
       "      <td>NaN</td>\n",
       "      <td>NaN</td>\n",
       "      <td>NaN</td>\n",
       "      <td>NaN</td>\n",
       "      <td>NaN</td>\n",
       "      <td>NaN</td>\n",
       "      <td>NaN</td>\n",
       "      <td>NaN</td>\n",
       "      <td>NaN</td>\n",
       "      <td>NaN</td>\n",
       "      <td>NaN</td>\n",
       "      <td>NaN</td>\n",
       "      <td>NaN</td>\n",
       "      <td>NaN</td>\n",
       "      <td>NaN</td>\n",
       "      <td>NaN</td>\n",
       "      <td>NaN</td>\n",
       "      <td>NaN</td>\n",
       "      <td>NaN</td>\n",
       "      <td>NaN</td>\n",
       "      <td>NaN</td>\n",
       "      <td>NaN</td>\n",
       "      <td>NaN</td>\n",
       "      <td>NaN</td>\n",
       "      <td>NaN</td>\n",
       "      <td>NaN</td>\n",
       "      <td>NaN</td>\n",
       "      <td>NaN</td>\n",
       "      <td>NaN</td>\n",
       "      <td>NaN</td>\n",
       "      <td>NaN</td>\n",
       "      <td>NaN</td>\n",
       "      <td>NaN</td>\n",
       "      <td>NaN</td>\n",
       "      <td>NaN</td>\n",
       "      <td>NaN</td>\n",
       "      <td>NaN</td>\n",
       "      <td>NaN</td>\n",
       "      <td>NaN</td>\n",
       "      <td>NaN</td>\n",
       "      <td>NaN</td>\n",
       "      <td>NaN</td>\n",
       "      <td>NaN</td>\n",
       "      <td>NaN</td>\n",
       "      <td>NaN</td>\n",
       "      <td>NaN</td>\n",
       "      <td>NaN</td>\n",
       "      <td>NaN</td>\n",
       "      <td>NaN</td>\n",
       "      <td>NaN</td>\n",
       "      <td>NaN</td>\n",
       "      <td>NaN</td>\n",
       "      <td>NaN</td>\n",
       "      <td>NaN</td>\n",
       "      <td>NaN</td>\n",
       "      <td>NaN</td>\n",
       "      <td>NaN</td>\n",
       "      <td>NaN</td>\n",
       "      <td>NaN</td>\n",
       "      <td>NaN</td>\n",
       "      <td>NaN</td>\n",
       "      <td>NaN</td>\n",
       "      <td>NaN</td>\n",
       "      <td>NaN</td>\n",
       "      <td>NaN</td>\n",
       "      <td>NaN</td>\n",
       "      <td>NaN</td>\n",
       "      <td>NaN</td>\n",
       "      <td>NaN</td>\n",
       "      <td>NaN</td>\n",
       "      <td>NaN</td>\n",
       "      <td>NaN</td>\n",
       "      <td>NaN</td>\n",
       "      <td>NaN</td>\n",
       "      <td>NaN</td>\n",
       "      <td>NaN</td>\n",
       "      <td>NaN</td>\n",
       "      <td>NaN</td>\n",
       "      <td>NaN</td>\n",
       "      <td>NaN</td>\n",
       "      <td>NaN</td>\n",
       "      <td>NaN</td>\n",
       "      <td>NaN</td>\n",
       "      <td>NaN</td>\n",
       "      <td>NaN</td>\n",
       "      <td>NaN</td>\n",
       "      <td>NaN</td>\n",
       "      <td>NaN</td>\n",
       "      <td>NaN</td>\n",
       "      <td>NaN</td>\n",
       "      <td>NaN</td>\n",
       "      <td>NaN</td>\n",
       "      <td>NaN</td>\n",
       "      <td>NaN</td>\n",
       "      <td>NaN</td>\n",
       "      <td>NaN</td>\n",
       "      <td>NaN</td>\n",
       "      <td>NaN</td>\n",
       "      <td>NaN</td>\n",
       "      <td>NaN</td>\n",
       "      <td>NaN</td>\n",
       "      <td>NaN</td>\n",
       "      <td>NaN</td>\n",
       "      <td>NaN</td>\n",
       "      <td>NaN</td>\n",
       "      <td>NaN</td>\n",
       "      <td>NaN</td>\n",
       "      <td>NaN</td>\n",
       "    </tr>\n",
       "    <tr>\n",
       "      <th>3</th>\n",
       "      <td>90272840</td>\n",
       "      <td>No</td>\n",
       "      <td>Male</td>\n",
       "      <td>40</td>\n",
       "      <td>us</td>\n",
       "      <td>or</td>\n",
       "      <td>MEH</td>\n",
       "      <td>DESPAIR</td>\n",
       "      <td>JOY</td>\n",
       "      <td>MEH</td>\n",
       "      <td>MEH</td>\n",
       "      <td>DESPAIR</td>\n",
       "      <td>MEH</td>\n",
       "      <td>DESPAIR</td>\n",
       "      <td>DESPAIR</td>\n",
       "      <td>MEH</td>\n",
       "      <td>MEH</td>\n",
       "      <td>DESPAIR</td>\n",
       "      <td>DESPAIR</td>\n",
       "      <td>MEH</td>\n",
       "      <td>JOY</td>\n",
       "      <td>MEH</td>\n",
       "      <td>JOY</td>\n",
       "      <td>MEH</td>\n",
       "      <td>DESPAIR</td>\n",
       "      <td>DESPAIR</td>\n",
       "      <td>DESPAIR</td>\n",
       "      <td>JOY</td>\n",
       "      <td>JOY</td>\n",
       "      <td>MEH</td>\n",
       "      <td>MEH</td>\n",
       "      <td>JOY</td>\n",
       "      <td>JOY</td>\n",
       "      <td>MEH</td>\n",
       "      <td>DESPAIR</td>\n",
       "      <td>JOY</td>\n",
       "      <td>MEH</td>\n",
       "      <td>MEH</td>\n",
       "      <td>DESPAIR</td>\n",
       "      <td>MEH</td>\n",
       "      <td>MEH</td>\n",
       "      <td>MEH</td>\n",
       "      <td>MEH</td>\n",
       "      <td>MEH</td>\n",
       "      <td>MEH</td>\n",
       "      <td>DESPAIR</td>\n",
       "      <td>DESPAIR</td>\n",
       "      <td>DESPAIR</td>\n",
       "      <td>DESPAIR</td>\n",
       "      <td>MEH</td>\n",
       "      <td>MEH</td>\n",
       "      <td>JOY</td>\n",
       "      <td>JOY</td>\n",
       "      <td>MEH</td>\n",
       "      <td>JOY</td>\n",
       "      <td>JOY</td>\n",
       "      <td>DESPAIR</td>\n",
       "      <td>JOY</td>\n",
       "      <td>MEH</td>\n",
       "      <td>MEH</td>\n",
       "      <td>DESPAIR</td>\n",
       "      <td>JOY</td>\n",
       "      <td>MEH</td>\n",
       "      <td>JOY</td>\n",
       "      <td>MEH</td>\n",
       "      <td>MEH</td>\n",
       "      <td>MEH</td>\n",
       "      <td>MEH</td>\n",
       "      <td>MEH</td>\n",
       "      <td>DESPAIR</td>\n",
       "      <td>DESPAIR</td>\n",
       "      <td>MEH</td>\n",
       "      <td>MEH</td>\n",
       "      <td>DESPAIR</td>\n",
       "      <td>MEH</td>\n",
       "      <td>MEH</td>\n",
       "      <td>MEH</td>\n",
       "      <td>DESPAIR</td>\n",
       "      <td>DESPAIR</td>\n",
       "      <td>DESPAIR</td>\n",
       "      <td>DESPAIR</td>\n",
       "      <td>JOY</td>\n",
       "      <td>MEH</td>\n",
       "      <td>MEH</td>\n",
       "      <td>MEH</td>\n",
       "      <td>DESPAIR</td>\n",
       "      <td>DESPAIR</td>\n",
       "      <td>DESPAIR</td>\n",
       "      <td>MEH</td>\n",
       "      <td>JOY</td>\n",
       "      <td>MEH</td>\n",
       "      <td>DESPAIR</td>\n",
       "      <td>MEH</td>\n",
       "      <td>MEH</td>\n",
       "      <td>JOY</td>\n",
       "      <td>MEH</td>\n",
       "      <td>JOY</td>\n",
       "      <td>MEH</td>\n",
       "      <td>DESPAIR</td>\n",
       "      <td>DESPAIR</td>\n",
       "      <td>JOY</td>\n",
       "      <td>MEH</td>\n",
       "      <td>JOY</td>\n",
       "      <td>DESPAIR</td>\n",
       "      <td>JOY</td>\n",
       "      <td>JOY</td>\n",
       "      <td>DESPAIR</td>\n",
       "      <td>DESPAIR</td>\n",
       "      <td>DESPAIR</td>\n",
       "      <td>Reese's crispy crunchy bars, 5th avenue bars, ...</td>\n",
       "      <td>NaN</td>\n",
       "      <td>Raisins can go to hell</td>\n",
       "      <td>White and gold</td>\n",
       "      <td>NaN</td>\n",
       "      <td>Sunday</td>\n",
       "      <td>NaN</td>\n",
       "      <td>1.0</td>\n",
       "      <td>NaN</td>\n",
       "      <td>NaN</td>\n",
       "      <td>(75, 23)</td>\n",
       "    </tr>\n",
       "    <tr>\n",
       "      <th>4</th>\n",
       "      <td>90272841</td>\n",
       "      <td>No</td>\n",
       "      <td>Male</td>\n",
       "      <td>23</td>\n",
       "      <td>usa</td>\n",
       "      <td>exton pa</td>\n",
       "      <td>JOY</td>\n",
       "      <td>DESPAIR</td>\n",
       "      <td>JOY</td>\n",
       "      <td>DESPAIR</td>\n",
       "      <td>MEH</td>\n",
       "      <td>DESPAIR</td>\n",
       "      <td>MEH</td>\n",
       "      <td>DESPAIR</td>\n",
       "      <td>DESPAIR</td>\n",
       "      <td>MEH</td>\n",
       "      <td>MEH</td>\n",
       "      <td>DESPAIR</td>\n",
       "      <td>DESPAIR</td>\n",
       "      <td>JOY</td>\n",
       "      <td>MEH</td>\n",
       "      <td>JOY</td>\n",
       "      <td>DESPAIR</td>\n",
       "      <td>DESPAIR</td>\n",
       "      <td>MEH</td>\n",
       "      <td>DESPAIR</td>\n",
       "      <td>DESPAIR</td>\n",
       "      <td>MEH</td>\n",
       "      <td>JOY</td>\n",
       "      <td>DESPAIR</td>\n",
       "      <td>DESPAIR</td>\n",
       "      <td>DESPAIR</td>\n",
       "      <td>MEH</td>\n",
       "      <td>MEH</td>\n",
       "      <td>DESPAIR</td>\n",
       "      <td>JOY</td>\n",
       "      <td>MEH</td>\n",
       "      <td>DESPAIR</td>\n",
       "      <td>DESPAIR</td>\n",
       "      <td>JOY</td>\n",
       "      <td>MEH</td>\n",
       "      <td>MEH</td>\n",
       "      <td>DESPAIR</td>\n",
       "      <td>MEH</td>\n",
       "      <td>JOY</td>\n",
       "      <td>MEH</td>\n",
       "      <td>JOY</td>\n",
       "      <td>DESPAIR</td>\n",
       "      <td>DESPAIR</td>\n",
       "      <td>JOY</td>\n",
       "      <td>JOY</td>\n",
       "      <td>JOY</td>\n",
       "      <td>JOY</td>\n",
       "      <td>MEH</td>\n",
       "      <td>DESPAIR</td>\n",
       "      <td>JOY</td>\n",
       "      <td>MEH</td>\n",
       "      <td>MEH</td>\n",
       "      <td>DESPAIR</td>\n",
       "      <td>MEH</td>\n",
       "      <td>MEH</td>\n",
       "      <td>JOY</td>\n",
       "      <td>JOY</td>\n",
       "      <td>JOY</td>\n",
       "      <td>JOY</td>\n",
       "      <td>JOY</td>\n",
       "      <td>JOY</td>\n",
       "      <td>JOY</td>\n",
       "      <td>MEH</td>\n",
       "      <td>DESPAIR</td>\n",
       "      <td>JOY</td>\n",
       "      <td>JOY</td>\n",
       "      <td>MEH</td>\n",
       "      <td>DESPAIR</td>\n",
       "      <td>JOY</td>\n",
       "      <td>JOY</td>\n",
       "      <td>JOY</td>\n",
       "      <td>MEH</td>\n",
       "      <td>DESPAIR</td>\n",
       "      <td>JOY</td>\n",
       "      <td>DESPAIR</td>\n",
       "      <td>JOY</td>\n",
       "      <td>JOY</td>\n",
       "      <td>MEH</td>\n",
       "      <td>JOY</td>\n",
       "      <td>NaN</td>\n",
       "      <td>JOY</td>\n",
       "      <td>JOY</td>\n",
       "      <td>DESPAIR</td>\n",
       "      <td>NaN</td>\n",
       "      <td>MEH</td>\n",
       "      <td>DESPAIR</td>\n",
       "      <td>JOY</td>\n",
       "      <td>JOY</td>\n",
       "      <td>MEH</td>\n",
       "      <td>DESPAIR</td>\n",
       "      <td>MEH</td>\n",
       "      <td>DESPAIR</td>\n",
       "      <td>DESPAIR</td>\n",
       "      <td>JOY</td>\n",
       "      <td>JOY</td>\n",
       "      <td>DESPAIR</td>\n",
       "      <td>JOY</td>\n",
       "      <td>MEH</td>\n",
       "      <td>JOY</td>\n",
       "      <td>JOY</td>\n",
       "      <td>DESPAIR</td>\n",
       "      <td>DESPAIR</td>\n",
       "      <td>JOY</td>\n",
       "      <td>NaN</td>\n",
       "      <td>NaN</td>\n",
       "      <td>NaN</td>\n",
       "      <td>White and gold</td>\n",
       "      <td>NaN</td>\n",
       "      <td>Friday</td>\n",
       "      <td>NaN</td>\n",
       "      <td>1.0</td>\n",
       "      <td>NaN</td>\n",
       "      <td>NaN</td>\n",
       "      <td>(70, 10)</td>\n",
       "    </tr>\n",
       "  </tbody>\n",
       "</table>\n",
       "</div>"
      ],
      "text/plain": [
       "   Internal ID Q1: GOING OUT? Q2: GENDER Q3: AGE Q4: COUNTRY  \\\n",
       "0     90258773            NaN        NaN     NaN         NaN   \n",
       "1     90272821             No       Male      44        USA    \n",
       "2     90272829            NaN       Male      49         USA   \n",
       "3     90272840             No       Male      40          us   \n",
       "4     90272841             No       Male      23         usa   \n",
       "\n",
       "  Q5: STATE, PROVINCE, COUNTY, ETC Q6 | 100 Grand Bar  \\\n",
       "0                              NaN                NaN   \n",
       "1                               NM                MEH   \n",
       "2                         Virginia                NaN   \n",
       "3                               or                MEH   \n",
       "4                         exton pa                JOY   \n",
       "\n",
       "  Q6 | Anonymous brown globs that come in black and orange wrappers\\t(a.k.a. Mary Janes)  \\\n",
       "0                                                NaN                                       \n",
       "1                                            DESPAIR                                       \n",
       "2                                                NaN                                       \n",
       "3                                            DESPAIR                                       \n",
       "4                                            DESPAIR                                       \n",
       "\n",
       "  Q6 | Any full-sized candy bar Q6 | Black Jacks Q6 | Bonkers (the candy)  \\\n",
       "0                           NaN              NaN                      NaN   \n",
       "1                           JOY              MEH                  DESPAIR   \n",
       "2                           NaN              NaN                      NaN   \n",
       "3                           JOY              MEH                      MEH   \n",
       "4                           JOY          DESPAIR                      MEH   \n",
       "\n",
       "  Q6 | Bonkers (the board game) Q6 | Bottle Caps Q6 | Box'o'Raisins  \\\n",
       "0                           NaN              NaN                NaN   \n",
       "1                       DESPAIR          DESPAIR            DESPAIR   \n",
       "2                           NaN              NaN                NaN   \n",
       "3                       DESPAIR              MEH            DESPAIR   \n",
       "4                       DESPAIR              MEH            DESPAIR   \n",
       "\n",
       "  Q6 | Broken glow stick Q6 | Butterfinger Q6 | Cadbury Creme Eggs  \\\n",
       "0                    NaN               NaN                     NaN   \n",
       "1                DESPAIR           DESPAIR                     MEH   \n",
       "2                    NaN               NaN                     NaN   \n",
       "3                DESPAIR               MEH                     MEH   \n",
       "4                DESPAIR               MEH                     MEH   \n",
       "\n",
       "  Q6 | Candy Corn  \\\n",
       "0             NaN   \n",
       "1             MEH   \n",
       "2             NaN   \n",
       "3         DESPAIR   \n",
       "4         DESPAIR   \n",
       "\n",
       "  Q6 | Candy that is clearly just the stuff given out for free at restaurants  \\\n",
       "0                                                NaN                            \n",
       "1                                            DESPAIR                            \n",
       "2                                                NaN                            \n",
       "3                                            DESPAIR                            \n",
       "4                                            DESPAIR                            \n",
       "\n",
       "  Q6 | Caramellos Q6 | Cash, or other forms of legal tender Q6 | Chardonnay  \\\n",
       "0             NaN                                       NaN             NaN   \n",
       "1             MEH                                       JOY             MEH   \n",
       "2             NaN                                       NaN             NaN   \n",
       "3             MEH                                       JOY             MEH   \n",
       "4             JOY                                       MEH             JOY   \n",
       "\n",
       "  Q6 | Chick-o-Sticks (we don’t know what that is) Q6 | Chiclets  \\\n",
       "0                                              NaN           NaN   \n",
       "1                                          DESPAIR       DESPAIR   \n",
       "2                                              NaN           NaN   \n",
       "3                                              JOY           MEH   \n",
       "4                                          DESPAIR       DESPAIR   \n",
       "\n",
       "  Q6 | Coffee Crisp Q6 | Creepy Religious comics/Chick Tracts  \\\n",
       "0               NaN                                       NaN   \n",
       "1           DESPAIR                                   DESPAIR   \n",
       "2               NaN                                       NaN   \n",
       "3           DESPAIR                                   DESPAIR   \n",
       "4               MEH                                   DESPAIR   \n",
       "\n",
       "  Q6 | Dental paraphenalia Q6 | Dots Q6 | Dove Bars Q6 | Fuzzy Peaches  \\\n",
       "0                      NaN       NaN            NaN                NaN   \n",
       "1                  DESPAIR       MEH            JOY            DESPAIR   \n",
       "2                      NaN       NaN            NaN                NaN   \n",
       "3                  DESPAIR       JOY            JOY                MEH   \n",
       "4                  DESPAIR       MEH            JOY            DESPAIR   \n",
       "\n",
       "  Q6 | Generic Brand Acetaminophen Q6 | Glow sticks Q6 | Goo Goo Clusters  \\\n",
       "0                              NaN              NaN                   NaN   \n",
       "1                          DESPAIR          DESPAIR               DESPAIR   \n",
       "2                              NaN              NaN                   NaN   \n",
       "3                              MEH              JOY                   JOY   \n",
       "4                          DESPAIR          DESPAIR                   MEH   \n",
       "\n",
       "  Q6 | Good N' Plenty Q6 | Gum from baseball cards  \\\n",
       "0                 NaN                          NaN   \n",
       "1                 MEH                      DESPAIR   \n",
       "2                 NaN                          NaN   \n",
       "3                 MEH                      DESPAIR   \n",
       "4                 MEH                      DESPAIR   \n",
       "\n",
       "  Q6 | Gummy Bears straight up Q6 | Hard Candy Q6 | Healthy Fruit  \\\n",
       "0                          NaN             NaN                NaN   \n",
       "1                          MEH             MEH            DESPAIR   \n",
       "2                          NaN             NaN                NaN   \n",
       "3                          JOY             MEH                MEH   \n",
       "4                          JOY             MEH            DESPAIR   \n",
       "\n",
       "  Q6 | Heath Bar Q6 | Hershey's Dark Chocolate Q6 | Hershey’s Milk Chocolate  \\\n",
       "0            NaN                           NaN                           NaN   \n",
       "1            MEH                           JOY                           JOY   \n",
       "2            NaN                           NaN                           NaN   \n",
       "3        DESPAIR                           MEH                           MEH   \n",
       "4        DESPAIR                           JOY                           MEH   \n",
       "\n",
       "  Q6 | Hershey's Kisses Q6 | Hugs (actual physical hugs)  \\\n",
       "0                   NaN                              NaN   \n",
       "1                   MEH                          DESPAIR   \n",
       "2                   NaN                              NaN   \n",
       "3                   MEH                              MEH   \n",
       "4                   MEH                          DESPAIR   \n",
       "\n",
       "  Q6 | Jolly Rancher (bad flavor) Q6 | Jolly Ranchers (good flavor)  \\\n",
       "0                             NaN                               NaN   \n",
       "1                         DESPAIR                               MEH   \n",
       "2                             NaN                               NaN   \n",
       "3                             MEH                               MEH   \n",
       "4                             MEH                               JOY   \n",
       "\n",
       "  Q6 | JoyJoy (Mit Iodine!) Q6 | Junior Mints Q6 | Senior Mints  \\\n",
       "0                       NaN               NaN               NaN   \n",
       "1                   DESPAIR           DESPAIR           DESPAIR   \n",
       "2                       NaN               NaN               NaN   \n",
       "3                   DESPAIR           DESPAIR           DESPAIR   \n",
       "4                       MEH               JOY           DESPAIR   \n",
       "\n",
       "  Q6 | Kale smoothie Q6 | Kinder Happy Hippo Q6 | Kit Kat Q6 | LaffyTaffy  \\\n",
       "0                NaN                     NaN          NaN             NaN   \n",
       "1            DESPAIR                 DESPAIR          JOY         DESPAIR   \n",
       "2                NaN                     NaN          NaN             NaN   \n",
       "3            DESPAIR                     MEH          MEH             JOY   \n",
       "4            DESPAIR                     JOY          JOY             JOY   \n",
       "\n",
       "  Q6 | LemonHeads Q6 | Licorice (not black) Q6 | Licorice (yes black)  \\\n",
       "0             NaN                       NaN                       NaN   \n",
       "1             MEH                       MEH                       JOY   \n",
       "2             NaN                       NaN                       NaN   \n",
       "3             JOY                       MEH                       JOY   \n",
       "4             JOY                       MEH                   DESPAIR   \n",
       "\n",
       "  Q6 | Lindt Truffle Q6 | Lollipops Q6 | Mars Q6 | Maynards Q6 | Mike and Ike  \\\n",
       "0                NaN            NaN       NaN           NaN               NaN   \n",
       "1                MEH        DESPAIR   DESPAIR       DESPAIR               MEH   \n",
       "2                NaN            NaN       NaN           NaN               NaN   \n",
       "3                JOY        DESPAIR       JOY           MEH               MEH   \n",
       "4                JOY            MEH       MEH       DESPAIR               MEH   \n",
       "\n",
       "  Q6 | Milk Duds Q6 | Milky Way Q6 | Regular M&Ms Q6 | Peanut M&M’s  \\\n",
       "0            NaN            NaN               NaN               NaN   \n",
       "1            MEH            JOY               JOY               MEH   \n",
       "2            NaN            NaN               NaN               NaN   \n",
       "3        DESPAIR            JOY               MEH               JOY   \n",
       "4            MEH            JOY               JOY               JOY   \n",
       "\n",
       "  Q6 | Blue M&M's Q6 | Red M&M's Q6 | Green Party M&M's  \\\n",
       "0             NaN            NaN                    NaN   \n",
       "1             JOY            JOY                    JOY   \n",
       "2             NaN            NaN                    NaN   \n",
       "3             MEH            MEH                    MEH   \n",
       "4             JOY            JOY                    JOY   \n",
       "\n",
       "  Q6 | Independent M&M's Q6 | Abstained from M&M'ing. Q6 | Minibags of chips  \\\n",
       "0                    NaN                          NaN                    NaN   \n",
       "1                    JOY                      DESPAIR                DESPAIR   \n",
       "2                    NaN                          NaN                    NaN   \n",
       "3                    MEH                          MEH                DESPAIR   \n",
       "4                    JOY                          MEH                DESPAIR   \n",
       "\n",
       "  Q6 | Mint Kisses Q6 | Mint Juleps Q6 | Mr. Goodbar Q6 | Necco Wafers  \\\n",
       "0              NaN              NaN              NaN               NaN   \n",
       "1              MEH          DESPAIR          DESPAIR           DESPAIR   \n",
       "2              NaN              NaN              NaN               NaN   \n",
       "3          DESPAIR              MEH              MEH           DESPAIR   \n",
       "4              JOY              JOY              MEH           DESPAIR   \n",
       "\n",
       "  Q6 | Nerds Q6 | Nestle Crunch Q6 | Now'n'Laters Q6 | Peeps Q6 | Pencils  \\\n",
       "0        NaN                NaN               NaN        NaN          NaN   \n",
       "1    DESPAIR                JOY           DESPAIR    DESPAIR      DESPAIR   \n",
       "2        NaN                NaN               NaN        NaN          NaN   \n",
       "3        MEH                MEH               MEH    DESPAIR      DESPAIR   \n",
       "4        JOY                JOY               JOY        MEH      DESPAIR   \n",
       "\n",
       "  Q6 | Pixy Stix Q6 | Real Housewives of Orange County Season 9 Blue-Ray  \\\n",
       "0            NaN                                                NaN        \n",
       "1        DESPAIR                                            DESPAIR        \n",
       "2            NaN                                                NaN        \n",
       "3        DESPAIR                                            DESPAIR        \n",
       "4            JOY                                            DESPAIR        \n",
       "\n",
       "  Q6 | Reese’s Peanut Butter Cups Q6 | Reese's Pieces Q6 | Reggie Jackson Bar  \\\n",
       "0                             NaN                 NaN                     NaN   \n",
       "1                             JOY                 JOY                 DESPAIR   \n",
       "2                             NaN                 NaN                     NaN   \n",
       "3                             JOY                 MEH                     MEH   \n",
       "4                             JOY                 JOY                     MEH   \n",
       "\n",
       "  Q6 | Rolos Q6 | Sandwich-sized bags filled with BooBerry Crunch  \\\n",
       "0        NaN                                                NaN     \n",
       "1        JOY                                            DESPAIR     \n",
       "2        NaN                                                NaN     \n",
       "3        MEH                                            DESPAIR     \n",
       "4        JOY                                                NaN     \n",
       "\n",
       "  Q6 | Skittles Q6 | Smarties (American) Q6 | Smarties (Commonwealth)  \\\n",
       "0           NaN                      NaN                          NaN   \n",
       "1       DESPAIR                  DESPAIR                      DESPAIR   \n",
       "2           NaN                      NaN                          NaN   \n",
       "3       DESPAIR                  DESPAIR                          MEH   \n",
       "4           JOY                      JOY                      DESPAIR   \n",
       "\n",
       "  Q6 | Snickers Q6 | Sourpatch Kids (i.e. abominations of nature)  \\\n",
       "0           NaN                                               NaN   \n",
       "1           MEH                                           DESPAIR   \n",
       "2           NaN                                               NaN   \n",
       "3           JOY                                               MEH   \n",
       "4           NaN                                               MEH   \n",
       "\n",
       "  Q6 | Spotted Dick Q6 | Starburst Q6 | Sweet Tarts Q6 | Swedish Fish  \\\n",
       "0               NaN            NaN              NaN               NaN   \n",
       "1           DESPAIR            MEH          DESPAIR               MEH   \n",
       "2               NaN            NaN              NaN               NaN   \n",
       "3           DESPAIR            MEH              MEH               JOY   \n",
       "4           DESPAIR            JOY              JOY               MEH   \n",
       "\n",
       "  Q6 | Sweetums (a friend to diabetes) Q6 | Take 5 Q6 | Tic Tacs  \\\n",
       "0                                  NaN         NaN           NaN   \n",
       "1                              DESPAIR     DESPAIR       DESPAIR   \n",
       "2                                  NaN         NaN           NaN   \n",
       "3                                  MEH         JOY           MEH   \n",
       "4                              DESPAIR         MEH       DESPAIR   \n",
       "\n",
       "  Q6 | Those odd marshmallow circus peanut things Q6 | Three Musketeers  \\\n",
       "0                                             NaN                   NaN   \n",
       "1                                         DESPAIR                   JOY   \n",
       "2                                             NaN                   NaN   \n",
       "3                                         DESPAIR               DESPAIR   \n",
       "4                                         DESPAIR                   JOY   \n",
       "\n",
       "  Q6 | Tolberone something or other Q6 | Trail Mix Q6 | Twix  \\\n",
       "0                               NaN            NaN       NaN   \n",
       "1                               JOY        DESPAIR       JOY   \n",
       "2                               NaN            NaN       NaN   \n",
       "3                               JOY            MEH       JOY   \n",
       "4                               JOY        DESPAIR       JOY   \n",
       "\n",
       "  Q6 | Vials of pure high fructose corn syrup, for main-lining into your vein  \\\n",
       "0                                                NaN                            \n",
       "1                                            DESPAIR                            \n",
       "2                                                NaN                            \n",
       "3                                            DESPAIR                            \n",
       "4                                                MEH                            \n",
       "\n",
       "  Q6 | Vicodin Q6 | Whatchamacallit Bars Q6 | White Bread  \\\n",
       "0          NaN                       NaN              NaN   \n",
       "1      DESPAIR                   DESPAIR          DESPAIR   \n",
       "2          NaN                       NaN              NaN   \n",
       "3          JOY                       JOY          DESPAIR   \n",
       "4          JOY                       JOY          DESPAIR   \n",
       "\n",
       "  Q6 | Whole Wheat anything Q6 | York Peppermint Patties  \\\n",
       "0                       NaN                          NaN   \n",
       "1                   DESPAIR                      DESPAIR   \n",
       "2                       NaN                          NaN   \n",
       "3                   DESPAIR                      DESPAIR   \n",
       "4                   DESPAIR                          JOY   \n",
       "\n",
       "                                       Q7: JOY OTHER Q8: DESPAIR OTHER  \\\n",
       "0                                                NaN               NaN   \n",
       "1                                             Mounds               NaN   \n",
       "2                                                NaN               NaN   \n",
       "3  Reese's crispy crunchy bars, 5th avenue bars, ...               NaN   \n",
       "4                                                NaN               NaN   \n",
       "\n",
       "                                  Q9: OTHER COMMENTS      Q10: DRESS  \\\n",
       "0                                                NaN             NaN   \n",
       "1  Bottom line is Twix is really the only candy w...  White and gold   \n",
       "2                                                NaN             NaN   \n",
       "3                             Raisins can go to hell  White and gold   \n",
       "4                                                NaN  White and gold   \n",
       "\n",
       "  Unnamed: 113 Q11: DAY  Q12: MEDIA [Daily Dish]  Q12: MEDIA [Science]  \\\n",
       "0          NaN      NaN                      NaN                   NaN   \n",
       "1          NaN   Sunday                      NaN                   1.0   \n",
       "2          NaN      NaN                      NaN                   NaN   \n",
       "3          NaN   Sunday                      NaN                   1.0   \n",
       "4          NaN   Friday                      NaN                   1.0   \n",
       "\n",
       "   Q12: MEDIA [ESPN]  Q12: MEDIA [Yahoo] Click Coordinates (x, y)  \n",
       "0                NaN                 NaN                      NaN  \n",
       "1                NaN                 NaN                 (84, 25)  \n",
       "2                NaN                 NaN                      NaN  \n",
       "3                NaN                 NaN                 (75, 23)  \n",
       "4                NaN                 NaN                 (70, 10)  "
      ]
     },
     "execution_count": 5,
     "metadata": {},
     "output_type": "execute_result"
    }
   ],
   "source": [
    "df = pd.read_excel(r'Data_candyhierarchy2017.xlsx')\n",
    "df.head()"
   ]
  },
  {
   "cell_type": "markdown",
   "id": "d6717a64",
   "metadata": {
    "id": "d6717a64"
   },
   "source": [
    "# Data Exploration"
   ]
  },
  {
   "cell_type": "code",
   "execution_count": 6,
   "id": "9f4ef81b",
   "metadata": {
    "colab": {
     "base_uri": "https://localhost:8080/"
    },
    "id": "9f4ef81b",
    "outputId": "017a8c02-1b20-431e-86a3-523836e72bbc"
   },
   "outputs": [
    {
     "data": {
      "text/plain": [
       "(2460, 120)"
      ]
     },
     "execution_count": 6,
     "metadata": {},
     "output_type": "execute_result"
    }
   ],
   "source": [
    "df.shape"
   ]
  },
  {
   "cell_type": "code",
   "execution_count": 7,
   "id": "2f12273e",
   "metadata": {
    "colab": {
     "base_uri": "https://localhost:8080/"
    },
    "id": "2f12273e",
    "outputId": "574f67d2-abae-4fda-8242-1ace0e96cbf0"
   },
   "outputs": [
    {
     "name": "stdout",
     "output_type": "stream",
     "text": [
      "<class 'pandas.core.frame.DataFrame'>\n",
      "RangeIndex: 2460 entries, 0 to 2459\n",
      "Data columns (total 120 columns):\n",
      " #    Column                                                                                 Non-Null Count  Dtype  \n",
      "---   ------                                                                                 --------------  -----  \n",
      " 0    Internal ID                                                                            2460 non-null   int64  \n",
      " 1    Q1: GOING OUT?                                                                         2350 non-null   object \n",
      " 2    Q2: GENDER                                                                             2419 non-null   object \n",
      " 3    Q3: AGE                                                                                2376 non-null   object \n",
      " 4    Q4: COUNTRY                                                                            2396 non-null   object \n",
      " 5    Q5: STATE, PROVINCE, COUNTY, ETC                                                       2360 non-null   object \n",
      " 6    Q6 | 100 Grand Bar                                                                     1713 non-null   object \n",
      " 7    Q6 | Anonymous brown globs that come in black and orange wrappers\t(a.k.a. Mary Janes)  1726 non-null   object \n",
      " 8    Q6 | Any full-sized candy bar                                                          1788 non-null   object \n",
      " 9    Q6 | Black Jacks                                                                       1502 non-null   object \n",
      " 10   Q6 | Bonkers (the candy)                                                               1468 non-null   object \n",
      " 11   Q6 | Bonkers (the board game)                                                          1454 non-null   object \n",
      " 12   Q6 | Bottle Caps                                                                       1695 non-null   object \n",
      " 13   Q6 | Box'o'Raisins                                                                     1772 non-null   object \n",
      " 14   Q6 | Broken glow stick                                                                 1754 non-null   object \n",
      " 15   Q6 | Butterfinger                                                                      1778 non-null   object \n",
      " 16   Q6 | Cadbury Creme Eggs                                                                1777 non-null   object \n",
      " 17   Q6 | Candy Corn                                                                        1782 non-null   object \n",
      " 18   Q6 | Candy that is clearly just the stuff given out for free at restaurants            1769 non-null   object \n",
      " 19   Q6 | Caramellos                                                                        1708 non-null   object \n",
      " 20   Q6 | Cash, or other forms of legal tender                                              1780 non-null   object \n",
      " 21   Q6 | Chardonnay                                                                        1717 non-null   object \n",
      " 22   Q6 | Chick-o-Sticks (we don’t know what that is)                                       1514 non-null   object \n",
      " 23   Q6 | Chiclets                                                                          1749 non-null   object \n",
      " 24   Q6 | Coffee Crisp                                                                      1607 non-null   object \n",
      " 25   Q6 | Creepy Religious comics/Chick Tracts                                              1756 non-null   object \n",
      " 26   Q6 | Dental paraphenalia                                                               1768 non-null   object \n",
      " 27   Q6 | Dots                                                                              1731 non-null   object \n",
      " 28   Q6 | Dove Bars                                                                         1758 non-null   object \n",
      " 29   Q6 | Fuzzy Peaches                                                                     1637 non-null   object \n",
      " 30   Q6 | Generic Brand Acetaminophen                                                       1729 non-null   object \n",
      " 31   Q6 | Glow sticks                                                                       1763 non-null   object \n",
      " 32   Q6 | Goo Goo Clusters                                                                  1581 non-null   object \n",
      " 33   Q6 | Good N' Plenty                                                                    1726 non-null   object \n",
      " 34   Q6 | Gum from baseball cards                                                           1744 non-null   object \n",
      " 35   Q6 | Gummy Bears straight up                                                           1763 non-null   object \n",
      " 36   Q6 | Hard Candy                                                                        1765 non-null   object \n",
      " 37   Q6 | Healthy Fruit                                                                     1766 non-null   object \n",
      " 38   Q6 | Heath Bar                                                                         1748 non-null   object \n",
      " 39   Q6 | Hershey's Dark Chocolate                                                          1787 non-null   object \n",
      " 40   Q6 | Hershey’s Milk Chocolate                                                          1788 non-null   object \n",
      " 41   Q6 | Hershey's Kisses                                                                  1782 non-null   object \n",
      " 42   Q6 | Hugs (actual physical hugs)                                                       1747 non-null   object \n",
      " 43   Q6 | Jolly Rancher (bad flavor)                                                        1766 non-null   object \n",
      " 44   Q6 | Jolly Ranchers (good flavor)                                                      1765 non-null   object \n",
      " 45   Q6 | JoyJoy (Mit Iodine!)                                                              1434 non-null   object \n",
      " 46   Q6 | Junior Mints                                                                      1762 non-null   object \n",
      " 47   Q6 | Senior Mints                                                                      1518 non-null   object \n",
      " 48   Q6 | Kale smoothie                                                                     1716 non-null   object \n",
      " 49   Q6 | Kinder Happy Hippo                                                                1515 non-null   object \n",
      " 50   Q6 | Kit Kat                                                                           1786 non-null   object \n",
      " 51   Q6 | LaffyTaffy                                                                        1724 non-null   object \n",
      " 52   Q6 | LemonHeads                                                                        1730 non-null   object \n",
      " 53   Q6 | Licorice (not black)                                                              1774 non-null   object \n",
      " 54   Q6 | Licorice (yes black)                                                              1775 non-null   object \n",
      " 55   Q6 | Lindt Truffle                                                                     1742 non-null   object \n",
      " 56   Q6 | Lollipops                                                                         1769 non-null   object \n",
      " 57   Q6 | Mars                                                                              1735 non-null   object \n",
      " 58   Q6 | Maynards                                                                          1436 non-null   object \n",
      " 59   Q6 | Mike and Ike                                                                      1731 non-null   object \n",
      " 60   Q6 | Milk Duds                                                                         1767 non-null   object \n",
      " 61   Q6 | Milky Way                                                                         1772 non-null   object \n",
      " 62   Q6 | Regular M&Ms                                                                      1785 non-null   object \n",
      " 63   Q6 | Peanut M&M’s                                                                      1789 non-null   object \n",
      " 64   Q6 | Blue M&M's                                                                        1733 non-null   object \n",
      " 65   Q6 | Red M&M's                                                                         1731 non-null   object \n",
      " 66   Q6 | Green Party M&M's                                                                 1696 non-null   object \n",
      " 67   Q6 | Independent M&M's                                                                 1647 non-null   object \n",
      " 68   Q6 | Abstained from M&M'ing.                                                           1518 non-null   object \n",
      " 69   Q6 | Minibags of chips                                                                 1736 non-null   object \n",
      " 70   Q6 | Mint Kisses                                                                       1684 non-null   object \n",
      " 71   Q6 | Mint Juleps                                                                       1649 non-null   object \n",
      " 72   Q6 | Mr. Goodbar                                                                       1720 non-null   object \n",
      " 73   Q6 | Necco Wafers                                                                      1716 non-null   object \n",
      " 74   Q6 | Nerds                                                                             1737 non-null   object \n",
      " 75   Q6 | Nestle Crunch                                                                     1762 non-null   object \n",
      " 76   Q6 | Now'n'Laters                                                                      1643 non-null   object \n",
      " 77   Q6 | Peeps                                                                             1750 non-null   object \n",
      " 78   Q6 | Pencils                                                                           1751 non-null   object \n",
      " 79   Q6 | Pixy Stix                                                                         1738 non-null   object \n",
      " 80   Q6 | Real Housewives of Orange County Season 9 Blue-Ray                                1707 non-null   object \n",
      " 81   Q6 | Reese’s Peanut Butter Cups                                                        1781 non-null   object \n",
      " 82   Q6 | Reese's Pieces                                                                    1769 non-null   object \n",
      " 83   Q6 | Reggie Jackson Bar                                                                1446 non-null   object \n",
      " 84   Q6 | Rolos                                                                             1746 non-null   object \n",
      " 85   Q6 | Sandwich-sized bags filled with BooBerry Crunch                                   1684 non-null   object \n",
      " 86   Q6 | Skittles                                                                          1754 non-null   object \n",
      " 87   Q6 | Smarties (American)                                                               1735 non-null   object \n",
      " 88   Q6 | Smarties (Commonwealth)                                                           1559 non-null   object \n",
      " 89   Q6 | Snickers                                                                          1770 non-null   object \n",
      " 90   Q6 | Sourpatch Kids (i.e. abominations of nature)                                      1722 non-null   object \n",
      " 91   Q6 | Spotted Dick                                                                      1578 non-null   object \n",
      " 92   Q6 | Starburst                                                                         1767 non-null   object \n",
      " 93   Q6 | Sweet Tarts                                                                       1752 non-null   object \n",
      " 94   Q6 | Swedish Fish                                                                      1745 non-null   object \n",
      " 95   Q6 | Sweetums (a friend to diabetes)                                                   1458 non-null   object \n",
      " 96   Q6 | Take 5                                                                            1543 non-null   object \n",
      " 97   Q6 | Tic Tacs                                                                          1746 non-null   object \n",
      " 98   Q6 | Those odd marshmallow circus peanut things                                        1724 non-null   object \n",
      " 99   Q6 | Three Musketeers                                                                  1752 non-null   object \n",
      " 100  Q6 | Tolberone something or other                                                      1754 non-null   object \n",
      " 101  Q6 | Trail Mix                                                                         1752 non-null   object \n",
      " 102  Q6 | Twix                                                                              1770 non-null   object \n",
      " 103  Q6 | Vials of pure high fructose corn syrup, for main-lining into your vein            1668 non-null   object \n",
      " 104  Q6 | Vicodin                                                                           1671 non-null   object \n",
      " 105  Q6 | Whatchamacallit Bars                                                              1637 non-null   object \n",
      " 106  Q6 | White Bread                                                                       1703 non-null   object \n",
      " 107  Q6 | Whole Wheat anything                                                              1713 non-null   object \n",
      " 108  Q6 | York Peppermint Patties                                                           1755 non-null   object \n",
      " 109  Q7: JOY OTHER                                                                          911 non-null    object \n",
      " 110  Q8: DESPAIR OTHER                                                                      717 non-null    object \n",
      " 111  Q9: OTHER COMMENTS                                                                     386 non-null    object \n",
      " 112  Q10: DRESS                                                                             1716 non-null   object \n",
      " 113  Unnamed: 113                                                                           9 non-null      object \n",
      " 114  Q11: DAY                                                                               1735 non-null   object \n",
      " 115  Q12: MEDIA [Daily Dish]                                                                85 non-null     float64\n",
      " 116  Q12: MEDIA [Science]                                                                   1362 non-null   float64\n",
      " 117  Q12: MEDIA [ESPN]                                                                      99 non-null     float64\n",
      " 118  Q12: MEDIA [Yahoo]                                                                     67 non-null     float64\n",
      " 119  Click Coordinates (x, y)                                                               1605 non-null   object \n",
      "dtypes: float64(4), int64(1), object(115)\n",
      "memory usage: 2.3+ MB\n"
     ]
    }
   ],
   "source": [
    "df.info(verbose=True,null_counts=True)"
   ]
  },
  {
   "cell_type": "code",
   "execution_count": 8,
   "id": "022f4866",
   "metadata": {
    "colab": {
     "base_uri": "https://localhost:8080/"
    },
    "id": "022f4866",
    "outputId": "3a3e49ff-bee5-4164-b433-b98633132937"
   },
   "outputs": [
    {
     "data": {
      "text/plain": [
       "0"
      ]
     },
     "execution_count": 8,
     "metadata": {},
     "output_type": "execute_result"
    }
   ],
   "source": [
    "df.duplicated().sum()"
   ]
  },
  {
   "cell_type": "code",
   "execution_count": 9,
   "id": "a9c7c1ca",
   "metadata": {
    "colab": {
     "base_uri": "https://localhost:8080/",
     "height": 300
    },
    "id": "a9c7c1ca",
    "outputId": "4cce53a2-8169-487c-83d4-79fd083b62ef"
   },
   "outputs": [
    {
     "data": {
      "text/html": [
       "<div>\n",
       "<style scoped>\n",
       "    .dataframe tbody tr th:only-of-type {\n",
       "        vertical-align: middle;\n",
       "    }\n",
       "\n",
       "    .dataframe tbody tr th {\n",
       "        vertical-align: top;\n",
       "    }\n",
       "\n",
       "    .dataframe thead th {\n",
       "        text-align: right;\n",
       "    }\n",
       "</style>\n",
       "<table border=\"1\" class=\"dataframe\">\n",
       "  <thead>\n",
       "    <tr style=\"text-align: right;\">\n",
       "      <th></th>\n",
       "      <th>Internal ID</th>\n",
       "      <th>Q12: MEDIA [Daily Dish]</th>\n",
       "      <th>Q12: MEDIA [Science]</th>\n",
       "      <th>Q12: MEDIA [ESPN]</th>\n",
       "      <th>Q12: MEDIA [Yahoo]</th>\n",
       "    </tr>\n",
       "  </thead>\n",
       "  <tbody>\n",
       "    <tr>\n",
       "      <th>count</th>\n",
       "      <td>2.460000e+03</td>\n",
       "      <td>85.0</td>\n",
       "      <td>1362.0</td>\n",
       "      <td>99.0</td>\n",
       "      <td>67.0</td>\n",
       "    </tr>\n",
       "    <tr>\n",
       "      <th>mean</th>\n",
       "      <td>9.028016e+07</td>\n",
       "      <td>1.0</td>\n",
       "      <td>1.0</td>\n",
       "      <td>1.0</td>\n",
       "      <td>1.0</td>\n",
       "    </tr>\n",
       "    <tr>\n",
       "      <th>std</th>\n",
       "      <td>7.435532e+03</td>\n",
       "      <td>0.0</td>\n",
       "      <td>0.0</td>\n",
       "      <td>0.0</td>\n",
       "      <td>0.0</td>\n",
       "    </tr>\n",
       "    <tr>\n",
       "      <th>min</th>\n",
       "      <td>9.025877e+07</td>\n",
       "      <td>1.0</td>\n",
       "      <td>1.0</td>\n",
       "      <td>1.0</td>\n",
       "      <td>1.0</td>\n",
       "    </tr>\n",
       "    <tr>\n",
       "      <th>25%</th>\n",
       "      <td>9.027520e+07</td>\n",
       "      <td>1.0</td>\n",
       "      <td>1.0</td>\n",
       "      <td>1.0</td>\n",
       "      <td>1.0</td>\n",
       "    </tr>\n",
       "    <tr>\n",
       "      <th>50%</th>\n",
       "      <td>9.027780e+07</td>\n",
       "      <td>1.0</td>\n",
       "      <td>1.0</td>\n",
       "      <td>1.0</td>\n",
       "      <td>1.0</td>\n",
       "    </tr>\n",
       "    <tr>\n",
       "      <th>75%</th>\n",
       "      <td>9.028242e+07</td>\n",
       "      <td>1.0</td>\n",
       "      <td>1.0</td>\n",
       "      <td>1.0</td>\n",
       "      <td>1.0</td>\n",
       "    </tr>\n",
       "    <tr>\n",
       "      <th>max</th>\n",
       "      <td>9.031480e+07</td>\n",
       "      <td>1.0</td>\n",
       "      <td>1.0</td>\n",
       "      <td>1.0</td>\n",
       "      <td>1.0</td>\n",
       "    </tr>\n",
       "  </tbody>\n",
       "</table>\n",
       "</div>"
      ],
      "text/plain": [
       "        Internal ID  Q12: MEDIA [Daily Dish]  Q12: MEDIA [Science]  \\\n",
       "count  2.460000e+03                     85.0                1362.0   \n",
       "mean   9.028016e+07                      1.0                   1.0   \n",
       "std    7.435532e+03                      0.0                   0.0   \n",
       "min    9.025877e+07                      1.0                   1.0   \n",
       "25%    9.027520e+07                      1.0                   1.0   \n",
       "50%    9.027780e+07                      1.0                   1.0   \n",
       "75%    9.028242e+07                      1.0                   1.0   \n",
       "max    9.031480e+07                      1.0                   1.0   \n",
       "\n",
       "       Q12: MEDIA [ESPN]  Q12: MEDIA [Yahoo]  \n",
       "count               99.0                67.0  \n",
       "mean                 1.0                 1.0  \n",
       "std                  0.0                 0.0  \n",
       "min                  1.0                 1.0  \n",
       "25%                  1.0                 1.0  \n",
       "50%                  1.0                 1.0  \n",
       "75%                  1.0                 1.0  \n",
       "max                  1.0                 1.0  "
      ]
     },
     "execution_count": 9,
     "metadata": {},
     "output_type": "execute_result"
    }
   ],
   "source": [
    "df.describe()"
   ]
  },
  {
   "cell_type": "code",
   "execution_count": 10,
   "id": "0206bb57",
   "metadata": {
    "colab": {
     "base_uri": "https://localhost:8080/"
    },
    "id": "0206bb57",
    "outputId": "821a371b-210f-4b59-c524-c33be455cf8f"
   },
   "outputs": [
    {
     "data": {
      "text/plain": [
       "Internal ID                    0\n",
       "Q1: GOING OUT?               110\n",
       "Q2: GENDER                    41\n",
       "Q3: AGE                       84\n",
       "Q4: COUNTRY                   64\n",
       "                            ... \n",
       "Q12: MEDIA [Daily Dish]     2375\n",
       "Q12: MEDIA [Science]        1098\n",
       "Q12: MEDIA [ESPN]           2361\n",
       "Q12: MEDIA [Yahoo]          2393\n",
       "Click Coordinates (x, y)     855\n",
       "Length: 120, dtype: int64"
      ]
     },
     "execution_count": 10,
     "metadata": {},
     "output_type": "execute_result"
    }
   ],
   "source": [
    "df.isna().sum()"
   ]
  },
  {
   "cell_type": "code",
   "execution_count": 11,
   "id": "8fcc5f91",
   "metadata": {
    "colab": {
     "base_uri": "https://localhost:8080/"
    },
    "id": "8fcc5f91",
    "outputId": "69d75166-ee0a-466c-854a-46a6fc23135f"
   },
   "outputs": [
    {
     "data": {
      "text/plain": [
       "Internal ID                         0.000000\n",
       "Q1: GOING OUT?                      0.044715\n",
       "Q2: GENDER                          0.016667\n",
       "Q3: AGE                             0.034146\n",
       "Q4: COUNTRY                         0.026016\n",
       "Q5: STATE, PROVINCE, COUNTY, ETC    0.040650\n",
       "dtype: float64"
      ]
     },
     "execution_count": 11,
     "metadata": {},
     "output_type": "execute_result"
    }
   ],
   "source": [
    "#see how much missing data in eatch column (except Q6 -we will explore it in another data frame -)\n",
    "df.isna().sum().head(6)/len(df)"
   ]
  },
  {
   "cell_type": "code",
   "execution_count": 12,
   "id": "82f6055f",
   "metadata": {
    "colab": {
     "base_uri": "https://localhost:8080/"
    },
    "id": "82f6055f",
    "outputId": "4a8cfd2f-9492-445d-c96a-14d0124473e0"
   },
   "outputs": [
    {
     "data": {
      "text/plain": [
       "Q6 | York Peppermint Patties    0.286585\n",
       "Q7: JOY OTHER                   0.629675\n",
       "Q8: DESPAIR OTHER               0.708537\n",
       "Q9: OTHER COMMENTS              0.843089\n",
       "Q10: DRESS                      0.302439\n",
       "Unnamed: 113                    0.996341\n",
       "Q11: DAY                        0.294715\n",
       "Q12: MEDIA [Daily Dish]         0.965447\n",
       "Q12: MEDIA [Science]            0.446341\n",
       "Q12: MEDIA [ESPN]               0.959756\n",
       "Q12: MEDIA [Yahoo]              0.972764\n",
       "Click Coordinates (x, y)        0.347561\n",
       "dtype: float64"
      ]
     },
     "execution_count": 12,
     "metadata": {},
     "output_type": "execute_result"
    }
   ],
   "source": [
    "df.isna().sum().tail(12)/len(df)"
   ]
  },
  {
   "cell_type": "markdown",
   "id": "65960b0f",
   "metadata": {
    "id": "65960b0f"
   },
   "source": [
    "drop useless columns"
   ]
  },
  {
   "cell_type": "code",
   "execution_count": 13,
   "id": "0a7300b8",
   "metadata": {
    "id": "0a7300b8"
   },
   "outputs": [],
   "source": [
    " df.drop(['Internal ID','Unnamed: 113','Click Coordinates (x, y)','Q9: OTHER COMMENTS','Q8: DESPAIR OTHER','Q7: JOY OTHER'],axis = 1 , inplace = True)\n"
   ]
  },
  {
   "cell_type": "markdown",
   "id": "40e78419",
   "metadata": {
    "id": "40e78419"
   },
   "source": [
    "# Cleaning"
   ]
  },
  {
   "cell_type": "markdown",
   "id": "87014a9a",
   "metadata": {
    "id": "87014a9a"
   },
   "source": [
    "cleaning the first column (Q1: GOING OUT?)\n"
   ]
  },
  {
   "cell_type": "code",
   "execution_count": 14,
   "id": "8c651ba3",
   "metadata": {
    "colab": {
     "base_uri": "https://localhost:8080/",
     "height": 528
    },
    "id": "8c651ba3",
    "outputId": "c4a8d4e1-82e1-41c5-c3c1-e6a023a573b5"
   },
   "outputs": [
    {
     "data": {
      "text/plain": [
       "<function matplotlib.pyplot.show(close=None, block=None)>"
      ]
     },
     "execution_count": 14,
     "metadata": {},
     "output_type": "execute_result"
    },
    {
     "data": {
      "image/png": "[encoded data removed]",
      "text/plain": [
       "<Figure size 1152x432 with 1 Axes>"
      ]
     },
     "metadata": {},
     "output_type": "display_data"
    }
   ],
   "source": [
    "#Before cleaning\n",
    "sns.countplot(x = 'Q1: GOING OUT?' , data = df,order = df['Q1: GOING OUT?'].value_counts().index , palette = 'mako')\n",
    "plt.show"
   ]
  },
  {
   "cell_type": "code",
   "execution_count": 15,
   "id": "263dd832",
   "metadata": {
    "colab": {
     "base_uri": "https://localhost:8080/"
    },
    "id": "263dd832",
    "outputId": "3f62be19-80de-47cb-9ed1-7621971014db"
   },
   "outputs": [
    {
     "data": {
      "text/plain": [
       "No     2038\n",
       "Yes     312\n",
       "Name: Q1: GOING OUT?, dtype: int64"
      ]
     },
     "execution_count": 15,
     "metadata": {},
     "output_type": "execute_result"
    }
   ],
   "source": [
    "df['Q1: GOING OUT?'].value_counts()"
   ]
  },
  {
   "cell_type": "code",
   "execution_count": 16,
   "id": "e3ba057b",
   "metadata": {
    "id": "e3ba057b"
   },
   "outputs": [],
   "source": [
    "#replace the null values with \"maybe\" as it could be yes or no\n",
    "df['Q1: GOING OUT?'].fillna('maybe' , inplace = True)"
   ]
  },
  {
   "cell_type": "code",
   "execution_count": 17,
   "id": "4b785b56",
   "metadata": {
    "colab": {
     "base_uri": "https://localhost:8080/",
     "height": 528
    },
    "id": "4b785b56",
    "outputId": "5d6675c7-a666-48ff-ef31-ca0dbc941109"
   },
   "outputs": [
    {
     "data": {
      "text/plain": [
       "<function matplotlib.pyplot.show(close=None, block=None)>"
      ]
     },
     "execution_count": 17,
     "metadata": {},
     "output_type": "execute_result"
    },
    {
     "data": {
      "image/png": "[encoded data removed]",
      "text/plain": [
       "<Figure size 1152x432 with 1 Axes>"
      ]
     },
     "metadata": {},
     "output_type": "display_data"
    }
   ],
   "source": [
    "#After cleaning\n",
    "sns.countplot(x = 'Q1: GOING OUT?' , data = df,order = df['Q1: GOING OUT?'].value_counts().index , palette = 'mako')\n",
    "plt.show"
   ]
  },
  {
   "cell_type": "code",
   "execution_count": 18,
   "id": "a291c7de",
   "metadata": {
    "colab": {
     "base_uri": "https://localhost:8080/"
    },
    "id": "a291c7de",
    "outputId": "b6b940b0-fd3e-472a-9959-3a3534966139"
   },
   "outputs": [
    {
     "data": {
      "text/plain": [
       "No       2038\n",
       "Yes       312\n",
       "maybe     110\n",
       "Name: Q1: GOING OUT?, dtype: int64"
      ]
     },
     "execution_count": 18,
     "metadata": {},
     "output_type": "execute_result"
    }
   ],
   "source": [
    "df['Q1: GOING OUT?'].value_counts()"
   ]
  },
  {
   "cell_type": "code",
   "execution_count": 19,
   "id": "-v3nlwxjAiyn",
   "metadata": {
    "colab": {
     "base_uri": "https://localhost:8080/",
     "height": 499
    },
    "id": "-v3nlwxjAiyn",
    "outputId": "de0f0438-f707-4970-9151-5d19bd50b028"
   },
   "outputs": [
    {
     "data": {
      "image/png": "[encoded data removed]",
      "text/plain": [
       "<Figure size 1152x432 with 1 Axes>"
      ]
     },
     "metadata": {},
     "output_type": "display_data"
    }
   ],
   "source": [
    "plt.pie(df['Q1: GOING OUT?'].value_counts(), labels =['No','Yes','maybe'])\n",
    "plt.show()"
   ]
  },
  {
   "cell_type": "markdown",
   "id": "98a1b70d",
   "metadata": {
    "id": "98a1b70d"
   },
   "source": [
    "cleaning the 2nd column (Q2: GENDER)"
   ]
  },
  {
   "cell_type": "code",
   "execution_count": 20,
   "id": "9b1fc1cb",
   "metadata": {
    "colab": {
     "base_uri": "https://localhost:8080/",
     "height": 528
    },
    "id": "9b1fc1cb",
    "outputId": "3dad9b0c-faae-4cab-ff0d-85a771e52765"
   },
   "outputs": [
    {
     "data": {
      "text/plain": [
       "<function matplotlib.pyplot.show(close=None, block=None)>"
      ]
     },
     "execution_count": 20,
     "metadata": {},
     "output_type": "execute_result"
    },
    {
     "data": {
      "image/png": "[encoded data removed]",
      "text/plain": [
       "<Figure size 1152x432 with 1 Axes>"
      ]
     },
     "metadata": {},
     "output_type": "display_data"
    }
   ],
   "source": [
    "#Before\n",
    "sns.countplot(x = 'Q2: GENDER' , data = df,order = df['Q2: GENDER'].value_counts().index , palette = 'mako')\n",
    "plt.show"
   ]
  },
  {
   "cell_type": "code",
   "execution_count": 21,
   "id": "d5c765cf",
   "metadata": {
    "colab": {
     "base_uri": "https://localhost:8080/"
    },
    "id": "d5c765cf",
    "outputId": "cd960899-61cc-4651-d5ff-6bf0768eddf6"
   },
   "outputs": [
    {
     "data": {
      "text/plain": [
       "Male                  1467\n",
       "Female                 839\n",
       "I'd rather not say      83\n",
       "Other                   30\n",
       "Name: Q2: GENDER, dtype: int64"
      ]
     },
     "execution_count": 21,
     "metadata": {},
     "output_type": "execute_result"
    }
   ],
   "source": [
    "df['Q2: GENDER'].value_counts()"
   ]
  },
  {
   "cell_type": "code",
   "execution_count": 22,
   "id": "b155b6be",
   "metadata": {
    "id": "b155b6be"
   },
   "outputs": [],
   "source": [
    "# fill na values with \"i'd rather not to say\"\n",
    "df['Q2: GENDER'].fillna(\"I'd rather not say\" , inplace = True)"
   ]
  },
  {
   "cell_type": "code",
   "execution_count": 23,
   "id": "2d86fec2",
   "metadata": {
    "colab": {
     "base_uri": "https://localhost:8080/",
     "height": 528
    },
    "id": "2d86fec2",
    "outputId": "2f8c9426-8275-4d9a-ad29-c862bce9e409"
   },
   "outputs": [
    {
     "data": {
      "text/plain": [
       "<function matplotlib.pyplot.show(close=None, block=None)>"
      ]
     },
     "execution_count": 23,
     "metadata": {},
     "output_type": "execute_result"
    },
    {
     "data": {
      "image/png": "[encoded data removed]",
      "text/plain": [
       "<Figure size 1152x432 with 1 Axes>"
      ]
     },
     "metadata": {},
     "output_type": "display_data"
    }
   ],
   "source": [
    "#after\n",
    "sns.countplot(x = 'Q2: GENDER' , data = df, order = df['Q2: GENDER'].value_counts().index , palette = 'mako')\n",
    "plt.show"
   ]
  },
  {
   "cell_type": "code",
   "execution_count": 24,
   "id": "SKtpQ0WyAxOd",
   "metadata": {
    "colab": {
     "base_uri": "https://localhost:8080/",
     "height": 499
    },
    "id": "SKtpQ0WyAxOd",
    "outputId": "980dba9a-bdd4-4f63-b795-f9a55e563e41"
   },
   "outputs": [
    {
     "data": {
      "image/png": "[encoded data removed]",
      "text/plain": [
       "<Figure size 1152x432 with 1 Axes>"
      ]
     },
     "metadata": {},
     "output_type": "display_data"
    }
   ],
   "source": [
    "plt.pie(df['Q2: GENDER'].value_counts(), labels =['Male','Female',\"I'd rather not say\",'Other'])\n",
    "plt.show()"
   ]
  },
  {
   "cell_type": "markdown",
   "id": "983a33f5",
   "metadata": {
    "id": "983a33f5"
   },
   "source": [
    "cleaning the 3rd column (Q3: AGE)"
   ]
  },
  {
   "cell_type": "code",
   "execution_count": 25,
   "id": "fdf7c0f8",
   "metadata": {
    "id": "fdf7c0f8"
   },
   "outputs": [],
   "source": [
    "#converting the data in this colum to numerical and replace string with null\n",
    "df['Q3: AGE'] = pd.to_numeric(df['Q3: AGE'], errors='coerce')"
   ]
  },
  {
   "cell_type": "code",
   "execution_count": 26,
   "id": "0d7b361d",
   "metadata": {
    "colab": {
     "base_uri": "https://localhost:8080/"
    },
    "id": "0d7b361d",
    "outputId": "af3152cc-31ee-4550-fc14-b9a27aefd3ae"
   },
   "outputs": [
    {
     "data": {
      "text/plain": [
       "count    2352.000000\n",
       "mean       42.617304\n",
       "std        23.846531\n",
       "min         1.000000\n",
       "25%        34.000000\n",
       "50%        41.000000\n",
       "75%        50.000000\n",
       "max      1000.000000\n",
       "Name: Q3: AGE, dtype: float64"
      ]
     },
     "execution_count": 26,
     "metadata": {},
     "output_type": "execute_result"
    }
   ],
   "source": [
    "df['Q3: AGE'].describe()"
   ]
  },
  {
   "cell_type": "code",
   "execution_count": 27,
   "id": "5d5375d9",
   "metadata": {
    "colab": {
     "base_uri": "https://localhost:8080/",
     "height": 535
    },
    "id": "5d5375d9",
    "outputId": "4b1ae428-c0fe-4f17-bc1c-ce137ad416e5"
   },
   "outputs": [
    {
     "data": {
      "image/png": "[encoded data removed]",
      "text/plain": [
       "<Figure size 1152x432 with 1 Axes>"
      ]
     },
     "metadata": {},
     "output_type": "display_data"
    }
   ],
   "source": [
    "#boxplot to show outliers\n",
    "sns.boxplot( x = 'Q3: AGE' , data = df)\n",
    "plt.show()"
   ]
  },
  {
   "cell_type": "code",
   "execution_count": 28,
   "id": "bc5c54a6",
   "metadata": {
    "id": "bc5c54a6"
   },
   "outputs": [],
   "source": [
    "# it seems that there is irrational values so i will replace what is more 75 or less than 12 with the median\n",
    "df['Q3: AGE'][df['Q3: AGE']>75] = df['Q3: AGE'].median()\n",
    "df['Q3: AGE'][df['Q3: AGE']<12] = df['Q3: AGE'].median()\n",
    "df['Q3: AGE'].fillna(df['Q3: AGE'].mean(),inplace = True)"
   ]
  },
  {
   "cell_type": "code",
   "execution_count": 29,
   "id": "fd4946f5",
   "metadata": {
    "colab": {
     "base_uri": "https://localhost:8080/"
    },
    "id": "fd4946f5",
    "outputId": "8815a11d-11f4-498e-98fe-1acce7aa31e9"
   },
   "outputs": [
    {
     "data": {
      "text/plain": [
       "count    2460.000000\n",
       "mean       42.189583\n",
       "std        11.020010\n",
       "min        12.000000\n",
       "25%        35.000000\n",
       "50%        42.000000\n",
       "75%        49.000000\n",
       "max        75.000000\n",
       "Name: Q3: AGE, dtype: float64"
      ]
     },
     "execution_count": 29,
     "metadata": {},
     "output_type": "execute_result"
    }
   ],
   "source": [
    "df['Q3: AGE'].describe()"
   ]
  },
  {
   "cell_type": "code",
   "execution_count": 30,
   "id": "5125a667",
   "metadata": {
    "colab": {
     "base_uri": "https://localhost:8080/",
     "height": 535
    },
    "id": "5125a667",
    "outputId": "c9a986f0-d394-4b31-8aba-947a58391f24"
   },
   "outputs": [
    {
     "data": {
      "image/png": "[encoded data removed]",
      "text/plain": [
       "<Figure size 1152x432 with 1 Axes>"
      ]
     },
     "metadata": {},
     "output_type": "display_data"
    }
   ],
   "source": [
    "#to see the changes\n",
    "sns.boxplot( x = 'Q3: AGE' , data = df)\n",
    "plt.show()"
   ]
  },
  {
   "cell_type": "code",
   "execution_count": 31,
   "id": "819b581e",
   "metadata": {
    "colab": {
     "base_uri": "https://localhost:8080/",
     "height": 509
    },
    "id": "819b581e",
    "outputId": "3b6cdc1b-1d34-4764-f871-45689450573b"
   },
   "outputs": [
    {
     "data": {
      "image/png": "[encoded data removed]",
      "text/plain": [
       "<Figure size 1152x432 with 1 Axes>"
      ]
     },
     "metadata": {},
     "output_type": "display_data"
    }
   ],
   "source": [
    "sns.kdeplot(x='Q3: AGE' , data = df)\n",
    "plt.show()"
   ]
  },
  {
   "cell_type": "code",
   "execution_count": 32,
   "id": "VtnxnRN7wZl0",
   "metadata": {
    "colab": {
     "base_uri": "https://localhost:8080/",
     "height": 517
    },
    "id": "VtnxnRN7wZl0",
    "outputId": "2737b2eb-c1a7-4409-8d8d-a043f80b49e9"
   },
   "outputs": [
    {
     "data": {
      "image/png": "[encoded data removed]",
      "text/plain": [
       "<Figure size 1152x432 with 1 Axes>"
      ]
     },
     "metadata": {},
     "output_type": "display_data"
    }
   ],
   "source": [
    "sns.barplot(data=df,x=\"Q2: GENDER\",y=\"Q3: AGE\",hue=\"Q1: GOING OUT?\",palette = 'mako')\n",
    "plt.show()"
   ]
  },
  {
   "cell_type": "markdown",
   "id": "7ed10ac5",
   "metadata": {
    "id": "7ed10ac5"
   },
   "source": [
    "cleaning country column"
   ]
  },
  {
   "cell_type": "code",
   "execution_count": 33,
   "id": "d995c1c0",
   "metadata": {
    "colab": {
     "base_uri": "https://localhost:8080/"
    },
    "id": "d995c1c0",
    "outputId": "fb07e413-2e0d-4893-e8ca-abaa63b2857e"
   },
   "outputs": [
    {
     "data": {
      "text/plain": [
       "array([nan, 'USA ', 'USA', 'us', 'usa', 'canada', 'Canada', 'Us', 'US',\n",
       "       'Murica', 'United States', 'uk', 'United Kingdom', 'united states',\n",
       "       'Usa', 'United States ', 'United staes',\n",
       "       'United States of America', 'UAE', 'England', 'UK', 'canada ',\n",
       "       'Mexico', 'United states', 'u.s.a.', 'USAUSAUSA', 'america', 35,\n",
       "       'france', 'United States of America ', 'U.S.A.', 'finland',\n",
       "       'unhinged states', 'Canada ', 'united states of america',\n",
       "       'US of A', 'Unites States', 'The United States', 'North Carolina ',\n",
       "       'Unied States', 'Netherlands', 'germany', 'Europe', 'Earth', 'U S',\n",
       "       'u.s.', 'U.K. ', 'Costa Rica', 'The United States of America',\n",
       "       'unite states', 'U.S.', 46, 'cascadia', 'Australia',\n",
       "       'insanity lately', 'Greece', 'USA? Hard to tell anymore..',\n",
       "       \"'merica\", 'usas', 'Pittsburgh', 45, 'United State', 32, 'France',\n",
       "       'australia', 'A', 'Can', 'Canae', 'New York', 'Trumpistan',\n",
       "       'Ireland', 'United Sates', 'Korea', 'California', 'Japan', 'USa',\n",
       "       'South africa',\n",
       "       'I pretend to be from Canada, but I am really from the United States.',\n",
       "       'Usa ', 'Uk', 'Iceland', 'Germany', 'Canada`', 'Scotland', 'UK ',\n",
       "       'Denmark', 'United Stated', 'France ', 'Switzerland',\n",
       "       'Ahem....Amerca', 'UD', 'Scotland ', 'South Korea', 'New Jersey',\n",
       "       'CANADA', 'Indonesia', 'United ststes', 'America',\n",
       "       'The Netherlands', 'United Statss', 'endland', 'Atlantis',\n",
       "       'murrika', 'USA! USA! USA!', 'USAA', 'Alaska', 'united States ',\n",
       "       'soviet canuckistan', 'N. America', 'Singapore', 'USSA', 'China',\n",
       "       'Taiwan', 'Ireland ', 'hong kong', 'spain', 'Sweden', 'Hong Kong',\n",
       "       'U.S. ', 'Narnia', 'u s a', 'United Statea', 'united ststes', 1,\n",
       "       'subscribe to dm4uz3 on youtube', 'United kingdom',\n",
       "       'USA USA USA!!!!', \"I don't know anymore\", 'Fear and Loathing'],\n",
       "      dtype=object)"
      ]
     },
     "execution_count": 33,
     "metadata": {},
     "output_type": "execute_result"
    }
   ],
   "source": [
    "df['Q4: COUNTRY'].unique()"
   ]
  },
  {
   "cell_type": "code",
   "execution_count": 34,
   "id": "839fdf48",
   "metadata": {
    "colab": {
     "base_uri": "https://localhost:8080/"
    },
    "id": "839fdf48",
    "outputId": "ee168b49-c4f3-4509-d0d7-6dd33544fd87"
   },
   "outputs": [
    {
     "data": {
      "text/plain": [
       "USA                     699\n",
       "United States           497\n",
       "usa                     217\n",
       "Canada                  179\n",
       "Usa                     139\n",
       "                       ... \n",
       "United kingdom            1\n",
       "USA USA USA!!!!           1\n",
       "I don't know anymore      1\n",
       "France                    1\n",
       "Fear and Loathing         1\n",
       "Name: Q4: COUNTRY, Length: 129, dtype: int64"
      ]
     },
     "execution_count": 34,
     "metadata": {},
     "output_type": "execute_result"
    }
   ],
   "source": [
    "df['Q4: COUNTRY'].value_counts(dropna = False).sort_values(ascending = False)"
   ]
  },
  {
   "cell_type": "code",
   "execution_count": 35,
   "id": "bc373859",
   "metadata": {
    "colab": {
     "base_uri": "https://localhost:8080/"
    },
    "id": "bc373859",
    "outputId": "0a79c181-2401-4c40-ed75-d9d1915066cb"
   },
   "outputs": [
    {
     "data": {
      "text/plain": [
       "0.026016260162601626"
      ]
     },
     "execution_count": 35,
     "metadata": {},
     "output_type": "execute_result"
    }
   ],
   "source": [
    "df['Q4: COUNTRY'].isna().sum()/len(df)"
   ]
  },
  {
   "cell_type": "code",
   "execution_count": 36,
   "id": "64a3efcc",
   "metadata": {
    "colab": {
     "base_uri": "https://localhost:8080/",
     "height": 965
    },
    "id": "64a3efcc",
    "outputId": "cab3a475-119c-45e7-9ab8-a5fb8cf36a21"
   },
   "outputs": [
    {
     "data": {
      "text/plain": [
       "<function matplotlib.pyplot.show(close=None, block=None)>"
      ]
     },
     "execution_count": 36,
     "metadata": {},
     "output_type": "execute_result"
    },
    {
     "data": {
      "image/png": "[encoded data removed]",
      "text/plain": [
       "<Figure size 1152x432 with 1 Axes>"
      ]
     },
     "metadata": {},
     "output_type": "display_data"
    }
   ],
   "source": [
    "sns.countplot(x = 'Q4: COUNTRY' , data = df,order = df['Q4: COUNTRY'].value_counts().index )\n",
    "plt.xticks(rotation = 90)\n",
    "plt.show"
   ]
  },
  {
   "cell_type": "code",
   "execution_count": 37,
   "id": "c3836529",
   "metadata": {
    "colab": {
     "base_uri": "https://localhost:8080/"
    },
    "id": "c3836529",
    "outputId": "123e5210-5444-46a1-cf59-dfd06aeb1b78"
   },
   "outputs": [
    {
     "data": {
      "text/plain": [
       "array([nan, 'usa', 'us', 'canada', 'murica', 'united states', 'uk',\n",
       "       'united kingdom', 'united staes', 'united states of america',\n",
       "       'uae', 'england', 'mexico', 'u.s.a.', 'usausausa', 'america',\n",
       "       'france', 'finland', 'unhinged states', 'us of a', 'unites states',\n",
       "       'the united states', 'north carolina', 'unied states',\n",
       "       'netherlands', 'germany', 'europe', 'earth', 'u s', 'u.s.', 'u.k.',\n",
       "       'costa rica', 'the united states of america', 'unite states',\n",
       "       'cascadia', 'australia', 'insanity lately', 'greece',\n",
       "       'usa? hard to tell anymore..', \"'merica\", 'usas', 'pittsburgh',\n",
       "       'united state', 'a', 'can', 'canae', 'new york', 'trumpistan',\n",
       "       'ireland', 'united sates', 'korea', 'california', 'japan',\n",
       "       'south africa',\n",
       "       'i pretend to be from canada, but i am really from the united states.',\n",
       "       'iceland', 'canada`', 'scotland', 'denmark', 'united stated',\n",
       "       'switzerland', 'ahem....amerca', 'ud', 'south korea', 'new jersey',\n",
       "       'indonesia', 'united ststes', 'the netherlands', 'united statss',\n",
       "       'endland', 'atlantis', 'murrika', 'usa! usa! usa!', 'usaa',\n",
       "       'alaska', 'soviet canuckistan', 'n. america', 'singapore', 'ussa',\n",
       "       'china', 'taiwan', 'hong kong', 'spain', 'sweden', 'narnia',\n",
       "       'u s a', 'united statea', 'subscribe to dm4uz3 on youtube',\n",
       "       'usa usa usa!!!!', \"i don't know anymore\", 'fear and loathing'],\n",
       "      dtype=object)"
      ]
     },
     "execution_count": 37,
     "metadata": {},
     "output_type": "execute_result"
    }
   ],
   "source": [
    "df['Q4: COUNTRY'] = df['Q4: COUNTRY'].str.strip().str.lower()\n",
    "df['Q4: COUNTRY'].unique()"
   ]
  },
  {
   "cell_type": "code",
   "execution_count": 38,
   "id": "34fd7701",
   "metadata": {
    "colab": {
     "base_uri": "https://localhost:8080/"
    },
    "id": "34fd7701",
    "outputId": "f0507179-0c16-4c15-9c2d-185fdde5c8c9"
   },
   "outputs": [
    {
     "data": {
      "text/plain": [
       "array([nan, 'usa', 'canada', 'murica', 'united states', 'uk',\n",
       "       'united kingdom', 'uae', 'England', 'mexico', 'u.s.a', 'america',\n",
       "       'france', 'finland', 'us of a', 'north carolina', 'netherlands',\n",
       "       'germany', 'europe', 'earth', 'costa rica', 'cascadia',\n",
       "       'australia', 'insanity lately', 'greece',\n",
       "       'usa? hard to tell anymore..', 'pittsburgh', 'can', 'canae',\n",
       "       'new york', 'trumpistan', 'ireland', 'korea', 'california',\n",
       "       'japan', 'south africa', 'iceland', 'canada`', 'scotland',\n",
       "       'denmark', 'switzerland', 'ud', 'south korea', 'new jersey',\n",
       "       'indonesia', 'the netherlands', 'atlantis', 'murrika', 'alaska',\n",
       "       'soviet canuckistan', 'singapore', 'china', 'taiwan', 'hong kong',\n",
       "       'spain', 'sweden', 'narnia', 'subscribe to dm4uz3 on youtube',\n",
       "       \"i don't know anymore\", 'fear and loathing'], dtype=object)"
      ]
     },
     "execution_count": 38,
     "metadata": {},
     "output_type": "execute_result"
    }
   ],
   "source": [
    "countries = pd.Series(['usa','u.s.a' ,'united states','america','china','uk','united kingdom','England'])\n",
    "\n",
    "for country in countries:\n",
    "    matches = process.extract(country, df['Q4: COUNTRY'], limit = df.shape[0])\n",
    "    for potential_match in matches:\n",
    "        if potential_match[1] >= 80:\n",
    "            df.loc[df['Q4: COUNTRY'] == potential_match[0], 'Q4: COUNTRY'] = country\n",
    "            \n",
    "df['Q4: COUNTRY'].unique()"
   ]
  },
  {
   "cell_type": "code",
   "execution_count": 39,
   "id": "a5cf7fb0",
   "metadata": {
    "id": "a5cf7fb0"
   },
   "outputs": [],
   "source": [
    "usa_mapping = {'united states':'usa','america':'usa','u.s.a':'usa','us of a':'usa'}\n",
    "uk_mapping = {'united kingdom':'uk','England':'uk'}\n",
    "df['Q4: COUNTRY'].replace(usa_mapping,inplace=True)\n",
    "df['Q4: COUNTRY'].replace(uk_mapping,inplace=True)"
   ]
  },
  {
   "cell_type": "code",
   "execution_count": 40,
   "id": "5dca0262",
   "metadata": {
    "colab": {
     "base_uri": "https://localhost:8080/"
    },
    "id": "5dca0262",
    "outputId": "6469de3a-42db-4c87-d8f2-71a1408afbbc"
   },
   "outputs": [
    {
     "data": {
      "text/plain": [
       "array([nan, 'usa', 'canada', 'murica', 'uk', 'uae', 'mexico', 'france',\n",
       "       'finland', 'north carolina', 'netherlands', 'germany', 'europe',\n",
       "       'earth', 'costa rica', 'cascadia', 'australia', 'insanity lately',\n",
       "       'greece', 'usa? hard to tell anymore..', 'pittsburgh', 'can',\n",
       "       'canae', 'new york', 'trumpistan', 'ireland', 'korea',\n",
       "       'california', 'japan', 'south africa', 'iceland', 'canada`',\n",
       "       'scotland', 'denmark', 'switzerland', 'ud', 'south korea',\n",
       "       'new jersey', 'indonesia', 'the netherlands', 'atlantis',\n",
       "       'murrika', 'alaska', 'soviet canuckistan', 'singapore', 'china',\n",
       "       'taiwan', 'hong kong', 'spain', 'sweden', 'narnia',\n",
       "       'subscribe to dm4uz3 on youtube', \"i don't know anymore\",\n",
       "       'fear and loathing'], dtype=object)"
      ]
     },
     "execution_count": 40,
     "metadata": {},
     "output_type": "execute_result"
    }
   ],
   "source": [
    "df['Q4: COUNTRY'].unique()"
   ]
  },
  {
   "cell_type": "code",
   "execution_count": 41,
   "id": "9444c9b0",
   "metadata": {
    "id": "9444c9b0"
   },
   "outputs": [],
   "source": [
    "mapping = {np.nan:'other','murica':'other','north carolina':'other','europe':'other','earth':'other',\n",
    "        'cascadia':'other','insanity lately':'other','usa? hard to tell anymore..':'other',\n",
    "       'pittsburgh':'other','can':'other','canae':'other','new york':'other',\n",
    "        'trumpistan':'other', 'ireland':'other','california':'other','canada`':'canada','ud':'other',\n",
    "        'south korea':'korea','new jersey':'other','the netherlands':'netherlands','atlantis':'other',\n",
    "        'murrika':'other', 'alaska':'other', 'soviet canuckistan':'other' ,'narnia':'other',\n",
    "        'subscribe to dm4uz3 on youtube':'other', \"i don't know anymore\":'other','fear and loathing':'other'}\n",
    "df['Q4: COUNTRY'].replace(mapping,inplace=True)"
   ]
  },
  {
   "cell_type": "code",
   "execution_count": 42,
   "id": "a9eeef4f",
   "metadata": {
    "colab": {
     "base_uri": "https://localhost:8080/"
    },
    "id": "a9eeef4f",
    "outputId": "909350db-cbbb-44ee-b68e-ad9a79e82464"
   },
   "outputs": [
    {
     "data": {
      "text/plain": [
       "usa             2041\n",
       "canada           225\n",
       "other             96\n",
       "uk                34\n",
       "germany           10\n",
       "netherlands        7\n",
       "australia          7\n",
       "scotland           5\n",
       "japan              5\n",
       "mexico             4\n",
       "france             3\n",
       "switzerland        3\n",
       "hong kong          2\n",
       "china              2\n",
       "denmark            2\n",
       "korea              2\n",
       "sweden             2\n",
       "iceland            1\n",
       "south africa       1\n",
       "greece             1\n",
       "costa rica         1\n",
       "indonesia          1\n",
       "singapore          1\n",
       "finland            1\n",
       "taiwan             1\n",
       "uae                1\n",
       "spain              1\n",
       "Name: Q4: COUNTRY, dtype: int64"
      ]
     },
     "execution_count": 42,
     "metadata": {},
     "output_type": "execute_result"
    }
   ],
   "source": [
    "df['Q4: COUNTRY'].value_counts()"
   ]
  },
  {
   "cell_type": "code",
   "execution_count": 43,
   "id": "448572ab",
   "metadata": {
    "id": "448572ab"
   },
   "outputs": [],
   "source": [
    "mapping_2 = {'spain':'other','uae':'other','taiwan':'other','finland':'other','singapore':'other','indonesia':'other',\n",
    "             'costa rica':'other','greece':'other','south africa':'other','iceland':'other','sweden':'other',\n",
    "             'korea':'other','denmark':'other','china':'other','hong kong':'other','switzerland':'other'\n",
    "            ,'france':'other','mexico':'other','japan':'other','scotland':'other'}\n",
    "df['Q4: COUNTRY'].replace(mapping_2,inplace=True)"
   ]
  },
  {
   "cell_type": "code",
   "execution_count": 44,
   "id": "788cda5e",
   "metadata": {
    "colab": {
     "base_uri": "https://localhost:8080/",
     "height": 592
    },
    "id": "788cda5e",
    "outputId": "8b9c626e-33b3-4c5c-ea32-522700081b1b"
   },
   "outputs": [
    {
     "data": {
      "text/plain": [
       "<function matplotlib.pyplot.show(close=None, block=None)>"
      ]
     },
     "execution_count": 44,
     "metadata": {},
     "output_type": "execute_result"
    },
    {
     "data": {
      "image/png": "[encoded data removed]",
      "text/plain": [
       "<Figure size 1152x432 with 1 Axes>"
      ]
     },
     "metadata": {},
     "output_type": "display_data"
    }
   ],
   "source": [
    "sns.countplot(x = 'Q4: COUNTRY' , data = df  ,order = df['Q4: COUNTRY'].value_counts().index ,palette = 'mako')\n",
    "plt.xticks(rotation = 90)\n",
    "plt.show"
   ]
  },
  {
   "cell_type": "code",
   "execution_count": 45,
   "id": "d0490cc7",
   "metadata": {
    "colab": {
     "base_uri": "https://localhost:8080/"
    },
    "id": "d0490cc7",
    "outputId": "e2495005-e138-4eb8-bc60-d50099e32902"
   },
   "outputs": [
    {
     "data": {
      "text/plain": [
       "511"
      ]
     },
     "execution_count": 45,
     "metadata": {},
     "output_type": "execute_result"
    }
   ],
   "source": [
    "df['Q5: STATE, PROVINCE, COUNTY, ETC'].nunique()"
   ]
  },
  {
   "cell_type": "code",
   "execution_count": 46,
   "id": "630da1d7",
   "metadata": {
    "id": "630da1d7"
   },
   "outputs": [],
   "source": [
    "df['Q5: STATE, PROVINCE, COUNTY, ETC'] = df['Q5: STATE, PROVINCE, COUNTY, ETC'].str.strip().str.lower()"
   ]
  },
  {
   "cell_type": "code",
   "execution_count": 47,
   "id": "27a53107",
   "metadata": {
    "colab": {
     "base_uri": "https://localhost:8080/"
    },
    "id": "27a53107",
    "outputId": "461ff90a-d380-4f13-9259-397d45f92b4c"
   },
   "outputs": [
    {
     "data": {
      "text/plain": [
       "array([nan, 'nm', 'virginia', 'or', 'exton pa', 'colorado', 'ontario',\n",
       "       'wa', 'quebec', 'ny', 'california', 'texas', 'new york', 'co',\n",
       "       'in', 'mn', 'aberdeenshire', 'alberta', 'wisconsin, 53705', 'ri',\n",
       "       'nc', 'scotland', 'minnesota', 'michigan', 'florida', 'new jersey',\n",
       "       'va', 'los angeles, california', 'ca', 'chicago, illinois', 'nj',\n",
       "       'wisconsin', 'london', 'illinois', 'district of columbia',\n",
       "       'washington', 'massachusetts', 'montana', 'abu dhabi', 'tx',\n",
       "       'arizona', 'dc', 'yukon', 'pennsylvania', 'md', 'ohio',\n",
       "       'oxfordshire', 'iowa', 'tn', 'bc', 'maryland', 'mi', 'alaska',\n",
       "       'colorado, jefferson county', 'louisiana', 'pa',\n",
       "       'co, larimer county', 'nebraska', 'oregon', 'ut', 'cdmx',\n",
       "       'north carolina', 'tennessee', 'knox county, tennessee',\n",
       "       'new mexico', 'maine', 'virginia, arlington', 'mo', 'ma',\n",
       "       'new york, ny', 'il', 'new hampshire', 'georgia',\n",
       "       'washington, clark', 'ne', 'oklahoma', 'sc', 'nevada',\n",
       "       'vancouver, bc',\n",
       "       'oregon - but will be in washington for halloween',\n",
       "       'washington, king', 'rhode island', 'vt, chittenden', 'alabama',\n",
       "       'ga', 'fl, orange county', 'nope', 'manitoba', 'south carolina',\n",
       "       'baja california', 'santa cruz county, california', 'north dakota',\n",
       "       'pennsylvania, montgomery county', 'astoria ny', 'kansas', 'sk',\n",
       "       'missouri', 'british columbia', 'west virginia',\n",
       "       'harris county, texas', 'usa', 'philadelphia', 'kentucky', 'hi',\n",
       "       'south holland', 'derbyshire', 'hesse',\n",
       "       'massachusetts, plymouth county', 'cali', 'vt', 'ca, alameda',\n",
       "       'utah', 'fl', 'michigan, shiawassee county', 'newfoundland',\n",
       "       'indiana', 'idaho ada', 'la', 'america', 'hawaii',\n",
       "       'california, alameda', 'az', 'sub earth',\n",
       "       'alameda county, california', 'greater london', 'ab',\n",
       "       'wv, kanawha county', 'washington state', 'sussex',\n",
       "       'washington, king county', 'san jose', 'connecticut',\n",
       "       'orlando, fl', 'on', 'saskatchewan', 'mississippi', 'manchester',\n",
       "       'cascadia', 'sydney', 'ct',\n",
       "       'oblivion if things keep going this way', 'nunya, bizness, usa',\n",
       "       'oh', 'oakland, california', 'washington, seattle, king',\n",
       "       'ontario,  canada', 'phoenix, maricopa county, arizona', 'merlin',\n",
       "       'ns', 'washington state, kitsap county', 'cailifornia',\n",
       "       'oakland,ca', 'qc', 'pittsburgh pa', 'issaquah, wa, king county',\n",
       "       'massachussets', 'whatcom county, wa', 'mt', 'nh', 'michigin',\n",
       "       'ks', 'oakland county, michigan', 'albeqrrta', 'marne',\n",
       "       'noord-holland', 'tennessee, knox county', 'henrico, va',\n",
       "       'washington state, king county, city of seattle', 'washington, dc',\n",
       "       'nyc', 'brooklyn', 'qld', 'santa barbara co. california', 'ky',\n",
       "       'new orleans la', 'colorado, boulder', 'greater manchester',\n",
       "       'fife, scotland', 'a', 'kalamazoo county, mi', 'wi', 'wv',\n",
       "       'ulster county, ny', 'nj, gloucester', 'calif', 'ms', 'nb',\n",
       "       'queens', 'vermont', 'kildare', 'nd', 'washington dc',\n",
       "       'kings, new york', 'cook', 'toronto, ontario', 'victoria',\n",
       "       'nova scotia', 'tehama', 'suffolk county ny',\n",
       "       'santa clara county, california', 'sd', 'missoure', 'ia',\n",
       "       'colorado larimer county', 'tokyo', 'new mexico, usa', 'ont',\n",
       "       'califor', 'idaho', 'nv', 'brooklyn, kings county ny',\n",
       "       'king county, washington', 'washington, island county',\n",
       "       'kwazulu-natal', 'carver county, mn', 'dutchess county ny',\n",
       "       'wyoming', 'bristol', 'california, san francisco',\n",
       "       'glendora, los angeles, california', 'edinburgh', 'strathclyde',\n",
       "       'lancasire', 'ørbæk', 'pr', 'idf', 'zuid holland', 'osaka',\n",
       "       'surrey', 'northern ireland', 'vaud', 'see question 2',\n",
       "       'midlothian', 'durham county, north carolina',\n",
       "       'missouri, miller county', 'glasgow', 'cuyahoga county, ohio',\n",
       "       'seoul', 'canada', 'kanagawa', 'the shore', 'devonshire', 'tx.',\n",
       "       'jakarta', 'mannheim, baden-württemberg', '|nc', 'rotterdam', 'ar',\n",
       "       'arkansas', 'renton,wa', 'n-brabant', 'greifswald',\n",
       "       'british columbia, canada', 'kent', 'hessen', 'noyb',\n",
       "       'south dakota', 'emerald city, petrolia', 'new york, new york',\n",
       "       'wa, spokane', 'buncombe county, north carolina',\n",
       "       'california, san diego', 'california, ventura county',\n",
       "       'ny, tompkins county', 'arlington, va', 'portland, maine', 'nsw',\n",
       "       'califormia', 'mexico city', 'ga - georgia',\n",
       "       'oregon, multnomah county', 'vancouver, wa', 'atlanta, ga',\n",
       "       'singapore', 'united states', 'colorado (co)',\n",
       "       'dona ana county, new mexico', 'ut, salt lake',\n",
       "       'california, contra costa county, pleasant hill',\n",
       "       'shanghai, chang ning district', 'monroe county', 'hong kong',\n",
       "       'washingto', 'dublin', 'california, mendocino county', 'na',\n",
       "       'madrid', 'noord-brabant', 'skane', 'zürich', 'tree town, usa',\n",
       "       'philadelphia, pa', 'bristol county, rhode island',\n",
       "       'newfoundland and labrador', 'oshawa, ontario, canada', 'nl',\n",
       "       'nj; essex', 'delaware', 'mich', 'québec', 'orange county, ca',\n",
       "       'berkeley, ca', 'california, usa', 'st. louis county, missouri',\n",
       "       'munster', 'chicago, il', 'philadelphia pa',\n",
       "       'rappahannock county, va', 'ok', 'ill', 'stockholm',\n",
       "       'new york county, new york city, new york state', 'chicago',\n",
       "       'west yorkshire', 'berlin', 'ur mom',\n",
       "       'alaska, matanuska-susitna borough', 'marietta, ga',\n",
       "       'northbrook, il', 'northampton county, pa',\n",
       "       'pa.   northampton county', 'california, san diego county',\n",
       "       'bloomington, in', 'quenec', 'londom', 'st. augustine florida',\n",
       "       \"the democratic people's republic of north carolina\",\n",
       "       'pennsylvania, northampton couny, easton', 'st louis mo',\n",
       "       'psychotic'], dtype=object)"
      ]
     },
     "execution_count": 47,
     "metadata": {},
     "output_type": "execute_result"
    }
   ],
   "source": [
    "df['Q5: STATE, PROVINCE, COUNTY, ETC'].unique()"
   ]
  },
  {
   "cell_type": "code",
   "execution_count": 48,
   "id": "5933b97f",
   "metadata": {
    "colab": {
     "base_uri": "https://localhost:8080/"
    },
    "id": "5933b97f",
    "outputId": "b0bc0ebf-68a0-40f0-9b92-23a3dc7de37a"
   },
   "outputs": [
    {
     "data": {
      "text/plain": [
       "0.041463414634146344"
      ]
     },
     "execution_count": 48,
     "metadata": {},
     "output_type": "execute_result"
    }
   ],
   "source": [
    "df['Q5: STATE, PROVINCE, COUNTY, ETC'].isna().sum()/len(df)"
   ]
  },
  {
   "cell_type": "code",
   "execution_count": 49,
   "id": "35779812",
   "metadata": {
    "colab": {
     "base_uri": "https://localhost:8080/",
     "height": 843
    },
    "id": "35779812",
    "outputId": "abd16872-e0c7-41bb-84ed-cf37506703f1"
   },
   "outputs": [
    {
     "data": {
      "text/plain": [
       "<function matplotlib.pyplot.show(close=None, block=None)>"
      ]
     },
     "execution_count": 49,
     "metadata": {},
     "output_type": "execute_result"
    },
    {
     "data": {
      "image/png": "[encoded data removed]",
      "text/plain": [
       "<Figure size 1152x432 with 1 Axes>"
      ]
     },
     "metadata": {},
     "output_type": "display_data"
    }
   ],
   "source": [
    "sns.countplot(x = 'Q5: STATE, PROVINCE, COUNTY, ETC' , data = df ,palette = 'mako')\n",
    "plt.xticks(rotation = 90)\n",
    "plt.show"
   ]
  },
  {
   "cell_type": "code",
   "execution_count": 50,
   "id": "05b685fd",
   "metadata": {
    "id": "05b685fd"
   },
   "outputs": [],
   "source": [
    "#it is too messy and complex so i will just drop it xD\n",
    "df.drop(columns=['Q5: STATE, PROVINCE, COUNTY, ETC'], inplace=True)"
   ]
  },
  {
   "cell_type": "markdown",
   "id": "4ef09823",
   "metadata": {
    "id": "4ef09823"
   },
   "source": [
    "# clean candy"
   ]
  },
  {
   "cell_type": "code",
   "execution_count": 51,
   "id": "df516b27",
   "metadata": {
    "colab": {
     "base_uri": "https://localhost:8080/",
     "height": 478
    },
    "id": "df516b27",
    "outputId": "cf01dcac-7b48-4720-dd06-28278ee9deb5"
   },
   "outputs": [
    {
     "data": {
      "text/html": [
       "<div>\n",
       "<style scoped>\n",
       "    .dataframe tbody tr th:only-of-type {\n",
       "        vertical-align: middle;\n",
       "    }\n",
       "\n",
       "    .dataframe tbody tr th {\n",
       "        vertical-align: top;\n",
       "    }\n",
       "\n",
       "    .dataframe thead th {\n",
       "        text-align: right;\n",
       "    }\n",
       "</style>\n",
       "<table border=\"1\" class=\"dataframe\">\n",
       "  <thead>\n",
       "    <tr style=\"text-align: right;\">\n",
       "      <th></th>\n",
       "      <th>Q6 | 100 Grand Bar</th>\n",
       "      <th>Q6 | Anonymous brown globs that come in black and orange wrappers\\t(a.k.a. Mary Janes)</th>\n",
       "      <th>Q6 | Any full-sized candy bar</th>\n",
       "      <th>Q6 | Black Jacks</th>\n",
       "      <th>Q6 | Bonkers (the candy)</th>\n",
       "      <th>Q6 | Bonkers (the board game)</th>\n",
       "      <th>Q6 | Bottle Caps</th>\n",
       "      <th>Q6 | Box'o'Raisins</th>\n",
       "      <th>Q6 | Broken glow stick</th>\n",
       "      <th>Q6 | Butterfinger</th>\n",
       "      <th>Q6 | Cadbury Creme Eggs</th>\n",
       "      <th>Q6 | Candy Corn</th>\n",
       "      <th>Q6 | Candy that is clearly just the stuff given out for free at restaurants</th>\n",
       "      <th>Q6 | Caramellos</th>\n",
       "      <th>Q6 | Cash, or other forms of legal tender</th>\n",
       "      <th>Q6 | Chardonnay</th>\n",
       "      <th>Q6 | Chick-o-Sticks (we don’t know what that is)</th>\n",
       "      <th>Q6 | Chiclets</th>\n",
       "      <th>Q6 | Coffee Crisp</th>\n",
       "      <th>Q6 | Creepy Religious comics/Chick Tracts</th>\n",
       "      <th>Q6 | Dental paraphenalia</th>\n",
       "      <th>Q6 | Dots</th>\n",
       "      <th>Q6 | Dove Bars</th>\n",
       "      <th>Q6 | Fuzzy Peaches</th>\n",
       "      <th>Q6 | Generic Brand Acetaminophen</th>\n",
       "      <th>Q6 | Glow sticks</th>\n",
       "      <th>Q6 | Goo Goo Clusters</th>\n",
       "      <th>Q6 | Good N' Plenty</th>\n",
       "      <th>Q6 | Gum from baseball cards</th>\n",
       "      <th>Q6 | Gummy Bears straight up</th>\n",
       "      <th>Q6 | Hard Candy</th>\n",
       "      <th>Q6 | Healthy Fruit</th>\n",
       "      <th>Q6 | Heath Bar</th>\n",
       "      <th>Q6 | Hershey's Dark Chocolate</th>\n",
       "      <th>Q6 | Hershey’s Milk Chocolate</th>\n",
       "      <th>Q6 | Hershey's Kisses</th>\n",
       "      <th>Q6 | Hugs (actual physical hugs)</th>\n",
       "      <th>Q6 | Jolly Rancher (bad flavor)</th>\n",
       "      <th>Q6 | Jolly Ranchers (good flavor)</th>\n",
       "      <th>Q6 | JoyJoy (Mit Iodine!)</th>\n",
       "      <th>Q6 | Junior Mints</th>\n",
       "      <th>Q6 | Senior Mints</th>\n",
       "      <th>Q6 | Kale smoothie</th>\n",
       "      <th>Q6 | Kinder Happy Hippo</th>\n",
       "      <th>Q6 | Kit Kat</th>\n",
       "      <th>Q6 | LaffyTaffy</th>\n",
       "      <th>Q6 | LemonHeads</th>\n",
       "      <th>Q6 | Licorice (not black)</th>\n",
       "      <th>Q6 | Licorice (yes black)</th>\n",
       "      <th>Q6 | Lindt Truffle</th>\n",
       "      <th>Q6 | Lollipops</th>\n",
       "      <th>Q6 | Mars</th>\n",
       "      <th>Q6 | Maynards</th>\n",
       "      <th>Q6 | Mike and Ike</th>\n",
       "      <th>Q6 | Milk Duds</th>\n",
       "      <th>Q6 | Milky Way</th>\n",
       "      <th>Q6 | Regular M&amp;Ms</th>\n",
       "      <th>Q6 | Peanut M&amp;M’s</th>\n",
       "      <th>Q6 | Blue M&amp;M's</th>\n",
       "      <th>Q6 | Red M&amp;M's</th>\n",
       "      <th>Q6 | Green Party M&amp;M's</th>\n",
       "      <th>Q6 | Independent M&amp;M's</th>\n",
       "      <th>Q6 | Abstained from M&amp;M'ing.</th>\n",
       "      <th>Q6 | Minibags of chips</th>\n",
       "      <th>Q6 | Mint Kisses</th>\n",
       "      <th>Q6 | Mint Juleps</th>\n",
       "      <th>Q6 | Mr. Goodbar</th>\n",
       "      <th>Q6 | Necco Wafers</th>\n",
       "      <th>Q6 | Nerds</th>\n",
       "      <th>Q6 | Nestle Crunch</th>\n",
       "      <th>Q6 | Now'n'Laters</th>\n",
       "      <th>Q6 | Peeps</th>\n",
       "      <th>Q6 | Pencils</th>\n",
       "      <th>Q6 | Pixy Stix</th>\n",
       "      <th>Q6 | Real Housewives of Orange County Season 9 Blue-Ray</th>\n",
       "      <th>Q6 | Reese’s Peanut Butter Cups</th>\n",
       "      <th>Q6 | Reese's Pieces</th>\n",
       "      <th>Q6 | Reggie Jackson Bar</th>\n",
       "      <th>Q6 | Rolos</th>\n",
       "      <th>Q6 | Sandwich-sized bags filled with BooBerry Crunch</th>\n",
       "      <th>Q6 | Skittles</th>\n",
       "      <th>Q6 | Smarties (American)</th>\n",
       "      <th>Q6 | Smarties (Commonwealth)</th>\n",
       "      <th>Q6 | Snickers</th>\n",
       "      <th>Q6 | Sourpatch Kids (i.e. abominations of nature)</th>\n",
       "      <th>Q6 | Spotted Dick</th>\n",
       "      <th>Q6 | Starburst</th>\n",
       "      <th>Q6 | Sweet Tarts</th>\n",
       "      <th>Q6 | Swedish Fish</th>\n",
       "      <th>Q6 | Sweetums (a friend to diabetes)</th>\n",
       "      <th>Q6 | Take 5</th>\n",
       "      <th>Q6 | Tic Tacs</th>\n",
       "      <th>Q6 | Those odd marshmallow circus peanut things</th>\n",
       "      <th>Q6 | Three Musketeers</th>\n",
       "      <th>Q6 | Tolberone something or other</th>\n",
       "      <th>Q6 | Trail Mix</th>\n",
       "      <th>Q6 | Twix</th>\n",
       "      <th>Q6 | Vials of pure high fructose corn syrup, for main-lining into your vein</th>\n",
       "      <th>Q6 | Vicodin</th>\n",
       "      <th>Q6 | Whatchamacallit Bars</th>\n",
       "      <th>Q6 | White Bread</th>\n",
       "      <th>Q6 | Whole Wheat anything</th>\n",
       "      <th>Q6 | York Peppermint Patties</th>\n",
       "    </tr>\n",
       "  </thead>\n",
       "  <tbody>\n",
       "    <tr>\n",
       "      <th>0</th>\n",
       "      <td>NaN</td>\n",
       "      <td>NaN</td>\n",
       "      <td>NaN</td>\n",
       "      <td>NaN</td>\n",
       "      <td>NaN</td>\n",
       "      <td>NaN</td>\n",
       "      <td>NaN</td>\n",
       "      <td>NaN</td>\n",
       "      <td>NaN</td>\n",
       "      <td>NaN</td>\n",
       "      <td>NaN</td>\n",
       "      <td>NaN</td>\n",
       "      <td>NaN</td>\n",
       "      <td>NaN</td>\n",
       "      <td>NaN</td>\n",
       "      <td>NaN</td>\n",
       "      <td>NaN</td>\n",
       "      <td>NaN</td>\n",
       "      <td>NaN</td>\n",
       "      <td>NaN</td>\n",
       "      <td>NaN</td>\n",
       "      <td>NaN</td>\n",
       "      <td>NaN</td>\n",
       "      <td>NaN</td>\n",
       "      <td>NaN</td>\n",
       "      <td>NaN</td>\n",
       "      <td>NaN</td>\n",
       "      <td>NaN</td>\n",
       "      <td>NaN</td>\n",
       "      <td>NaN</td>\n",
       "      <td>NaN</td>\n",
       "      <td>NaN</td>\n",
       "      <td>NaN</td>\n",
       "      <td>NaN</td>\n",
       "      <td>NaN</td>\n",
       "      <td>NaN</td>\n",
       "      <td>NaN</td>\n",
       "      <td>NaN</td>\n",
       "      <td>NaN</td>\n",
       "      <td>NaN</td>\n",
       "      <td>NaN</td>\n",
       "      <td>NaN</td>\n",
       "      <td>NaN</td>\n",
       "      <td>NaN</td>\n",
       "      <td>NaN</td>\n",
       "      <td>NaN</td>\n",
       "      <td>NaN</td>\n",
       "      <td>NaN</td>\n",
       "      <td>NaN</td>\n",
       "      <td>NaN</td>\n",
       "      <td>NaN</td>\n",
       "      <td>NaN</td>\n",
       "      <td>NaN</td>\n",
       "      <td>NaN</td>\n",
       "      <td>NaN</td>\n",
       "      <td>NaN</td>\n",
       "      <td>NaN</td>\n",
       "      <td>NaN</td>\n",
       "      <td>NaN</td>\n",
       "      <td>NaN</td>\n",
       "      <td>NaN</td>\n",
       "      <td>NaN</td>\n",
       "      <td>NaN</td>\n",
       "      <td>NaN</td>\n",
       "      <td>NaN</td>\n",
       "      <td>NaN</td>\n",
       "      <td>NaN</td>\n",
       "      <td>NaN</td>\n",
       "      <td>NaN</td>\n",
       "      <td>NaN</td>\n",
       "      <td>NaN</td>\n",
       "      <td>NaN</td>\n",
       "      <td>NaN</td>\n",
       "      <td>NaN</td>\n",
       "      <td>NaN</td>\n",
       "      <td>NaN</td>\n",
       "      <td>NaN</td>\n",
       "      <td>NaN</td>\n",
       "      <td>NaN</td>\n",
       "      <td>NaN</td>\n",
       "      <td>NaN</td>\n",
       "      <td>NaN</td>\n",
       "      <td>NaN</td>\n",
       "      <td>NaN</td>\n",
       "      <td>NaN</td>\n",
       "      <td>NaN</td>\n",
       "      <td>NaN</td>\n",
       "      <td>NaN</td>\n",
       "      <td>NaN</td>\n",
       "      <td>NaN</td>\n",
       "      <td>NaN</td>\n",
       "      <td>NaN</td>\n",
       "      <td>NaN</td>\n",
       "      <td>NaN</td>\n",
       "      <td>NaN</td>\n",
       "      <td>NaN</td>\n",
       "      <td>NaN</td>\n",
       "      <td>NaN</td>\n",
       "      <td>NaN</td>\n",
       "      <td>NaN</td>\n",
       "      <td>NaN</td>\n",
       "      <td>NaN</td>\n",
       "      <td>NaN</td>\n",
       "    </tr>\n",
       "    <tr>\n",
       "      <th>1</th>\n",
       "      <td>MEH</td>\n",
       "      <td>DESPAIR</td>\n",
       "      <td>JOY</td>\n",
       "      <td>MEH</td>\n",
       "      <td>DESPAIR</td>\n",
       "      <td>DESPAIR</td>\n",
       "      <td>DESPAIR</td>\n",
       "      <td>DESPAIR</td>\n",
       "      <td>DESPAIR</td>\n",
       "      <td>DESPAIR</td>\n",
       "      <td>MEH</td>\n",
       "      <td>MEH</td>\n",
       "      <td>DESPAIR</td>\n",
       "      <td>MEH</td>\n",
       "      <td>JOY</td>\n",
       "      <td>MEH</td>\n",
       "      <td>DESPAIR</td>\n",
       "      <td>DESPAIR</td>\n",
       "      <td>DESPAIR</td>\n",
       "      <td>DESPAIR</td>\n",
       "      <td>DESPAIR</td>\n",
       "      <td>MEH</td>\n",
       "      <td>JOY</td>\n",
       "      <td>DESPAIR</td>\n",
       "      <td>DESPAIR</td>\n",
       "      <td>DESPAIR</td>\n",
       "      <td>DESPAIR</td>\n",
       "      <td>MEH</td>\n",
       "      <td>DESPAIR</td>\n",
       "      <td>MEH</td>\n",
       "      <td>MEH</td>\n",
       "      <td>DESPAIR</td>\n",
       "      <td>MEH</td>\n",
       "      <td>JOY</td>\n",
       "      <td>JOY</td>\n",
       "      <td>MEH</td>\n",
       "      <td>DESPAIR</td>\n",
       "      <td>DESPAIR</td>\n",
       "      <td>MEH</td>\n",
       "      <td>DESPAIR</td>\n",
       "      <td>DESPAIR</td>\n",
       "      <td>DESPAIR</td>\n",
       "      <td>DESPAIR</td>\n",
       "      <td>DESPAIR</td>\n",
       "      <td>JOY</td>\n",
       "      <td>DESPAIR</td>\n",
       "      <td>MEH</td>\n",
       "      <td>MEH</td>\n",
       "      <td>JOY</td>\n",
       "      <td>MEH</td>\n",
       "      <td>DESPAIR</td>\n",
       "      <td>DESPAIR</td>\n",
       "      <td>DESPAIR</td>\n",
       "      <td>MEH</td>\n",
       "      <td>MEH</td>\n",
       "      <td>JOY</td>\n",
       "      <td>JOY</td>\n",
       "      <td>MEH</td>\n",
       "      <td>JOY</td>\n",
       "      <td>JOY</td>\n",
       "      <td>JOY</td>\n",
       "      <td>JOY</td>\n",
       "      <td>DESPAIR</td>\n",
       "      <td>DESPAIR</td>\n",
       "      <td>MEH</td>\n",
       "      <td>DESPAIR</td>\n",
       "      <td>DESPAIR</td>\n",
       "      <td>DESPAIR</td>\n",
       "      <td>DESPAIR</td>\n",
       "      <td>JOY</td>\n",
       "      <td>DESPAIR</td>\n",
       "      <td>DESPAIR</td>\n",
       "      <td>DESPAIR</td>\n",
       "      <td>DESPAIR</td>\n",
       "      <td>DESPAIR</td>\n",
       "      <td>JOY</td>\n",
       "      <td>JOY</td>\n",
       "      <td>DESPAIR</td>\n",
       "      <td>JOY</td>\n",
       "      <td>DESPAIR</td>\n",
       "      <td>DESPAIR</td>\n",
       "      <td>DESPAIR</td>\n",
       "      <td>DESPAIR</td>\n",
       "      <td>MEH</td>\n",
       "      <td>DESPAIR</td>\n",
       "      <td>DESPAIR</td>\n",
       "      <td>MEH</td>\n",
       "      <td>DESPAIR</td>\n",
       "      <td>MEH</td>\n",
       "      <td>DESPAIR</td>\n",
       "      <td>DESPAIR</td>\n",
       "      <td>DESPAIR</td>\n",
       "      <td>DESPAIR</td>\n",
       "      <td>JOY</td>\n",
       "      <td>JOY</td>\n",
       "      <td>DESPAIR</td>\n",
       "      <td>JOY</td>\n",
       "      <td>DESPAIR</td>\n",
       "      <td>DESPAIR</td>\n",
       "      <td>DESPAIR</td>\n",
       "      <td>DESPAIR</td>\n",
       "      <td>DESPAIR</td>\n",
       "      <td>DESPAIR</td>\n",
       "    </tr>\n",
       "    <tr>\n",
       "      <th>2</th>\n",
       "      <td>NaN</td>\n",
       "      <td>NaN</td>\n",
       "      <td>NaN</td>\n",
       "      <td>NaN</td>\n",
       "      <td>NaN</td>\n",
       "      <td>NaN</td>\n",
       "      <td>NaN</td>\n",
       "      <td>NaN</td>\n",
       "      <td>NaN</td>\n",
       "      <td>NaN</td>\n",
       "      <td>NaN</td>\n",
       "      <td>NaN</td>\n",
       "      <td>NaN</td>\n",
       "      <td>NaN</td>\n",
       "      <td>NaN</td>\n",
       "      <td>NaN</td>\n",
       "      <td>NaN</td>\n",
       "      <td>NaN</td>\n",
       "      <td>NaN</td>\n",
       "      <td>NaN</td>\n",
       "      <td>NaN</td>\n",
       "      <td>NaN</td>\n",
       "      <td>NaN</td>\n",
       "      <td>NaN</td>\n",
       "      <td>NaN</td>\n",
       "      <td>NaN</td>\n",
       "      <td>NaN</td>\n",
       "      <td>NaN</td>\n",
       "      <td>NaN</td>\n",
       "      <td>NaN</td>\n",
       "      <td>NaN</td>\n",
       "      <td>NaN</td>\n",
       "      <td>NaN</td>\n",
       "      <td>NaN</td>\n",
       "      <td>NaN</td>\n",
       "      <td>NaN</td>\n",
       "      <td>NaN</td>\n",
       "      <td>NaN</td>\n",
       "      <td>NaN</td>\n",
       "      <td>NaN</td>\n",
       "      <td>NaN</td>\n",
       "      <td>NaN</td>\n",
       "      <td>NaN</td>\n",
       "      <td>NaN</td>\n",
       "      <td>NaN</td>\n",
       "      <td>NaN</td>\n",
       "      <td>NaN</td>\n",
       "      <td>NaN</td>\n",
       "      <td>NaN</td>\n",
       "      <td>NaN</td>\n",
       "      <td>NaN</td>\n",
       "      <td>NaN</td>\n",
       "      <td>NaN</td>\n",
       "      <td>NaN</td>\n",
       "      <td>NaN</td>\n",
       "      <td>NaN</td>\n",
       "      <td>NaN</td>\n",
       "      <td>NaN</td>\n",
       "      <td>NaN</td>\n",
       "      <td>NaN</td>\n",
       "      <td>NaN</td>\n",
       "      <td>NaN</td>\n",
       "      <td>NaN</td>\n",
       "      <td>NaN</td>\n",
       "      <td>NaN</td>\n",
       "      <td>NaN</td>\n",
       "      <td>NaN</td>\n",
       "      <td>NaN</td>\n",
       "      <td>NaN</td>\n",
       "      <td>NaN</td>\n",
       "      <td>NaN</td>\n",
       "      <td>NaN</td>\n",
       "      <td>NaN</td>\n",
       "      <td>NaN</td>\n",
       "      <td>NaN</td>\n",
       "      <td>NaN</td>\n",
       "      <td>NaN</td>\n",
       "      <td>NaN</td>\n",
       "      <td>NaN</td>\n",
       "      <td>NaN</td>\n",
       "      <td>NaN</td>\n",
       "      <td>NaN</td>\n",
       "      <td>NaN</td>\n",
       "      <td>NaN</td>\n",
       "      <td>NaN</td>\n",
       "      <td>NaN</td>\n",
       "      <td>NaN</td>\n",
       "      <td>NaN</td>\n",
       "      <td>NaN</td>\n",
       "      <td>NaN</td>\n",
       "      <td>NaN</td>\n",
       "      <td>NaN</td>\n",
       "      <td>NaN</td>\n",
       "      <td>NaN</td>\n",
       "      <td>NaN</td>\n",
       "      <td>NaN</td>\n",
       "      <td>NaN</td>\n",
       "      <td>NaN</td>\n",
       "      <td>NaN</td>\n",
       "      <td>NaN</td>\n",
       "      <td>NaN</td>\n",
       "      <td>NaN</td>\n",
       "      <td>NaN</td>\n",
       "    </tr>\n",
       "    <tr>\n",
       "      <th>3</th>\n",
       "      <td>MEH</td>\n",
       "      <td>DESPAIR</td>\n",
       "      <td>JOY</td>\n",
       "      <td>MEH</td>\n",
       "      <td>MEH</td>\n",
       "      <td>DESPAIR</td>\n",
       "      <td>MEH</td>\n",
       "      <td>DESPAIR</td>\n",
       "      <td>DESPAIR</td>\n",
       "      <td>MEH</td>\n",
       "      <td>MEH</td>\n",
       "      <td>DESPAIR</td>\n",
       "      <td>DESPAIR</td>\n",
       "      <td>MEH</td>\n",
       "      <td>JOY</td>\n",
       "      <td>MEH</td>\n",
       "      <td>JOY</td>\n",
       "      <td>MEH</td>\n",
       "      <td>DESPAIR</td>\n",
       "      <td>DESPAIR</td>\n",
       "      <td>DESPAIR</td>\n",
       "      <td>JOY</td>\n",
       "      <td>JOY</td>\n",
       "      <td>MEH</td>\n",
       "      <td>MEH</td>\n",
       "      <td>JOY</td>\n",
       "      <td>JOY</td>\n",
       "      <td>MEH</td>\n",
       "      <td>DESPAIR</td>\n",
       "      <td>JOY</td>\n",
       "      <td>MEH</td>\n",
       "      <td>MEH</td>\n",
       "      <td>DESPAIR</td>\n",
       "      <td>MEH</td>\n",
       "      <td>MEH</td>\n",
       "      <td>MEH</td>\n",
       "      <td>MEH</td>\n",
       "      <td>MEH</td>\n",
       "      <td>MEH</td>\n",
       "      <td>DESPAIR</td>\n",
       "      <td>DESPAIR</td>\n",
       "      <td>DESPAIR</td>\n",
       "      <td>DESPAIR</td>\n",
       "      <td>MEH</td>\n",
       "      <td>MEH</td>\n",
       "      <td>JOY</td>\n",
       "      <td>JOY</td>\n",
       "      <td>MEH</td>\n",
       "      <td>JOY</td>\n",
       "      <td>JOY</td>\n",
       "      <td>DESPAIR</td>\n",
       "      <td>JOY</td>\n",
       "      <td>MEH</td>\n",
       "      <td>MEH</td>\n",
       "      <td>DESPAIR</td>\n",
       "      <td>JOY</td>\n",
       "      <td>MEH</td>\n",
       "      <td>JOY</td>\n",
       "      <td>MEH</td>\n",
       "      <td>MEH</td>\n",
       "      <td>MEH</td>\n",
       "      <td>MEH</td>\n",
       "      <td>MEH</td>\n",
       "      <td>DESPAIR</td>\n",
       "      <td>DESPAIR</td>\n",
       "      <td>MEH</td>\n",
       "      <td>MEH</td>\n",
       "      <td>DESPAIR</td>\n",
       "      <td>MEH</td>\n",
       "      <td>MEH</td>\n",
       "      <td>MEH</td>\n",
       "      <td>DESPAIR</td>\n",
       "      <td>DESPAIR</td>\n",
       "      <td>DESPAIR</td>\n",
       "      <td>DESPAIR</td>\n",
       "      <td>JOY</td>\n",
       "      <td>MEH</td>\n",
       "      <td>MEH</td>\n",
       "      <td>MEH</td>\n",
       "      <td>DESPAIR</td>\n",
       "      <td>DESPAIR</td>\n",
       "      <td>DESPAIR</td>\n",
       "      <td>MEH</td>\n",
       "      <td>JOY</td>\n",
       "      <td>MEH</td>\n",
       "      <td>DESPAIR</td>\n",
       "      <td>MEH</td>\n",
       "      <td>MEH</td>\n",
       "      <td>JOY</td>\n",
       "      <td>MEH</td>\n",
       "      <td>JOY</td>\n",
       "      <td>MEH</td>\n",
       "      <td>DESPAIR</td>\n",
       "      <td>DESPAIR</td>\n",
       "      <td>JOY</td>\n",
       "      <td>MEH</td>\n",
       "      <td>JOY</td>\n",
       "      <td>DESPAIR</td>\n",
       "      <td>JOY</td>\n",
       "      <td>JOY</td>\n",
       "      <td>DESPAIR</td>\n",
       "      <td>DESPAIR</td>\n",
       "      <td>DESPAIR</td>\n",
       "    </tr>\n",
       "    <tr>\n",
       "      <th>4</th>\n",
       "      <td>JOY</td>\n",
       "      <td>DESPAIR</td>\n",
       "      <td>JOY</td>\n",
       "      <td>DESPAIR</td>\n",
       "      <td>MEH</td>\n",
       "      <td>DESPAIR</td>\n",
       "      <td>MEH</td>\n",
       "      <td>DESPAIR</td>\n",
       "      <td>DESPAIR</td>\n",
       "      <td>MEH</td>\n",
       "      <td>MEH</td>\n",
       "      <td>DESPAIR</td>\n",
       "      <td>DESPAIR</td>\n",
       "      <td>JOY</td>\n",
       "      <td>MEH</td>\n",
       "      <td>JOY</td>\n",
       "      <td>DESPAIR</td>\n",
       "      <td>DESPAIR</td>\n",
       "      <td>MEH</td>\n",
       "      <td>DESPAIR</td>\n",
       "      <td>DESPAIR</td>\n",
       "      <td>MEH</td>\n",
       "      <td>JOY</td>\n",
       "      <td>DESPAIR</td>\n",
       "      <td>DESPAIR</td>\n",
       "      <td>DESPAIR</td>\n",
       "      <td>MEH</td>\n",
       "      <td>MEH</td>\n",
       "      <td>DESPAIR</td>\n",
       "      <td>JOY</td>\n",
       "      <td>MEH</td>\n",
       "      <td>DESPAIR</td>\n",
       "      <td>DESPAIR</td>\n",
       "      <td>JOY</td>\n",
       "      <td>MEH</td>\n",
       "      <td>MEH</td>\n",
       "      <td>DESPAIR</td>\n",
       "      <td>MEH</td>\n",
       "      <td>JOY</td>\n",
       "      <td>MEH</td>\n",
       "      <td>JOY</td>\n",
       "      <td>DESPAIR</td>\n",
       "      <td>DESPAIR</td>\n",
       "      <td>JOY</td>\n",
       "      <td>JOY</td>\n",
       "      <td>JOY</td>\n",
       "      <td>JOY</td>\n",
       "      <td>MEH</td>\n",
       "      <td>DESPAIR</td>\n",
       "      <td>JOY</td>\n",
       "      <td>MEH</td>\n",
       "      <td>MEH</td>\n",
       "      <td>DESPAIR</td>\n",
       "      <td>MEH</td>\n",
       "      <td>MEH</td>\n",
       "      <td>JOY</td>\n",
       "      <td>JOY</td>\n",
       "      <td>JOY</td>\n",
       "      <td>JOY</td>\n",
       "      <td>JOY</td>\n",
       "      <td>JOY</td>\n",
       "      <td>JOY</td>\n",
       "      <td>MEH</td>\n",
       "      <td>DESPAIR</td>\n",
       "      <td>JOY</td>\n",
       "      <td>JOY</td>\n",
       "      <td>MEH</td>\n",
       "      <td>DESPAIR</td>\n",
       "      <td>JOY</td>\n",
       "      <td>JOY</td>\n",
       "      <td>JOY</td>\n",
       "      <td>MEH</td>\n",
       "      <td>DESPAIR</td>\n",
       "      <td>JOY</td>\n",
       "      <td>DESPAIR</td>\n",
       "      <td>JOY</td>\n",
       "      <td>JOY</td>\n",
       "      <td>MEH</td>\n",
       "      <td>JOY</td>\n",
       "      <td>NaN</td>\n",
       "      <td>JOY</td>\n",
       "      <td>JOY</td>\n",
       "      <td>DESPAIR</td>\n",
       "      <td>NaN</td>\n",
       "      <td>MEH</td>\n",
       "      <td>DESPAIR</td>\n",
       "      <td>JOY</td>\n",
       "      <td>JOY</td>\n",
       "      <td>MEH</td>\n",
       "      <td>DESPAIR</td>\n",
       "      <td>MEH</td>\n",
       "      <td>DESPAIR</td>\n",
       "      <td>DESPAIR</td>\n",
       "      <td>JOY</td>\n",
       "      <td>JOY</td>\n",
       "      <td>DESPAIR</td>\n",
       "      <td>JOY</td>\n",
       "      <td>MEH</td>\n",
       "      <td>JOY</td>\n",
       "      <td>JOY</td>\n",
       "      <td>DESPAIR</td>\n",
       "      <td>DESPAIR</td>\n",
       "      <td>JOY</td>\n",
       "    </tr>\n",
       "  </tbody>\n",
       "</table>\n",
       "</div>"
      ],
      "text/plain": [
       "  Q6 | 100 Grand Bar  \\\n",
       "0                NaN   \n",
       "1                MEH   \n",
       "2                NaN   \n",
       "3                MEH   \n",
       "4                JOY   \n",
       "\n",
       "  Q6 | Anonymous brown globs that come in black and orange wrappers\\t(a.k.a. Mary Janes)  \\\n",
       "0                                                NaN                                       \n",
       "1                                            DESPAIR                                       \n",
       "2                                                NaN                                       \n",
       "3                                            DESPAIR                                       \n",
       "4                                            DESPAIR                                       \n",
       "\n",
       "  Q6 | Any full-sized candy bar Q6 | Black Jacks Q6 | Bonkers (the candy)  \\\n",
       "0                           NaN              NaN                      NaN   \n",
       "1                           JOY              MEH                  DESPAIR   \n",
       "2                           NaN              NaN                      NaN   \n",
       "3                           JOY              MEH                      MEH   \n",
       "4                           JOY          DESPAIR                      MEH   \n",
       "\n",
       "  Q6 | Bonkers (the board game) Q6 | Bottle Caps Q6 | Box'o'Raisins  \\\n",
       "0                           NaN              NaN                NaN   \n",
       "1                       DESPAIR          DESPAIR            DESPAIR   \n",
       "2                           NaN              NaN                NaN   \n",
       "3                       DESPAIR              MEH            DESPAIR   \n",
       "4                       DESPAIR              MEH            DESPAIR   \n",
       "\n",
       "  Q6 | Broken glow stick Q6 | Butterfinger Q6 | Cadbury Creme Eggs  \\\n",
       "0                    NaN               NaN                     NaN   \n",
       "1                DESPAIR           DESPAIR                     MEH   \n",
       "2                    NaN               NaN                     NaN   \n",
       "3                DESPAIR               MEH                     MEH   \n",
       "4                DESPAIR               MEH                     MEH   \n",
       "\n",
       "  Q6 | Candy Corn  \\\n",
       "0             NaN   \n",
       "1             MEH   \n",
       "2             NaN   \n",
       "3         DESPAIR   \n",
       "4         DESPAIR   \n",
       "\n",
       "  Q6 | Candy that is clearly just the stuff given out for free at restaurants  \\\n",
       "0                                                NaN                            \n",
       "1                                            DESPAIR                            \n",
       "2                                                NaN                            \n",
       "3                                            DESPAIR                            \n",
       "4                                            DESPAIR                            \n",
       "\n",
       "  Q6 | Caramellos Q6 | Cash, or other forms of legal tender Q6 | Chardonnay  \\\n",
       "0             NaN                                       NaN             NaN   \n",
       "1             MEH                                       JOY             MEH   \n",
       "2             NaN                                       NaN             NaN   \n",
       "3             MEH                                       JOY             MEH   \n",
       "4             JOY                                       MEH             JOY   \n",
       "\n",
       "  Q6 | Chick-o-Sticks (we don’t know what that is) Q6 | Chiclets  \\\n",
       "0                                              NaN           NaN   \n",
       "1                                          DESPAIR       DESPAIR   \n",
       "2                                              NaN           NaN   \n",
       "3                                              JOY           MEH   \n",
       "4                                          DESPAIR       DESPAIR   \n",
       "\n",
       "  Q6 | Coffee Crisp Q6 | Creepy Religious comics/Chick Tracts  \\\n",
       "0               NaN                                       NaN   \n",
       "1           DESPAIR                                   DESPAIR   \n",
       "2               NaN                                       NaN   \n",
       "3           DESPAIR                                   DESPAIR   \n",
       "4               MEH                                   DESPAIR   \n",
       "\n",
       "  Q6 | Dental paraphenalia Q6 | Dots Q6 | Dove Bars Q6 | Fuzzy Peaches  \\\n",
       "0                      NaN       NaN            NaN                NaN   \n",
       "1                  DESPAIR       MEH            JOY            DESPAIR   \n",
       "2                      NaN       NaN            NaN                NaN   \n",
       "3                  DESPAIR       JOY            JOY                MEH   \n",
       "4                  DESPAIR       MEH            JOY            DESPAIR   \n",
       "\n",
       "  Q6 | Generic Brand Acetaminophen Q6 | Glow sticks Q6 | Goo Goo Clusters  \\\n",
       "0                              NaN              NaN                   NaN   \n",
       "1                          DESPAIR          DESPAIR               DESPAIR   \n",
       "2                              NaN              NaN                   NaN   \n",
       "3                              MEH              JOY                   JOY   \n",
       "4                          DESPAIR          DESPAIR                   MEH   \n",
       "\n",
       "  Q6 | Good N' Plenty Q6 | Gum from baseball cards  \\\n",
       "0                 NaN                          NaN   \n",
       "1                 MEH                      DESPAIR   \n",
       "2                 NaN                          NaN   \n",
       "3                 MEH                      DESPAIR   \n",
       "4                 MEH                      DESPAIR   \n",
       "\n",
       "  Q6 | Gummy Bears straight up Q6 | Hard Candy Q6 | Healthy Fruit  \\\n",
       "0                          NaN             NaN                NaN   \n",
       "1                          MEH             MEH            DESPAIR   \n",
       "2                          NaN             NaN                NaN   \n",
       "3                          JOY             MEH                MEH   \n",
       "4                          JOY             MEH            DESPAIR   \n",
       "\n",
       "  Q6 | Heath Bar Q6 | Hershey's Dark Chocolate Q6 | Hershey’s Milk Chocolate  \\\n",
       "0            NaN                           NaN                           NaN   \n",
       "1            MEH                           JOY                           JOY   \n",
       "2            NaN                           NaN                           NaN   \n",
       "3        DESPAIR                           MEH                           MEH   \n",
       "4        DESPAIR                           JOY                           MEH   \n",
       "\n",
       "  Q6 | Hershey's Kisses Q6 | Hugs (actual physical hugs)  \\\n",
       "0                   NaN                              NaN   \n",
       "1                   MEH                          DESPAIR   \n",
       "2                   NaN                              NaN   \n",
       "3                   MEH                              MEH   \n",
       "4                   MEH                          DESPAIR   \n",
       "\n",
       "  Q6 | Jolly Rancher (bad flavor) Q6 | Jolly Ranchers (good flavor)  \\\n",
       "0                             NaN                               NaN   \n",
       "1                         DESPAIR                               MEH   \n",
       "2                             NaN                               NaN   \n",
       "3                             MEH                               MEH   \n",
       "4                             MEH                               JOY   \n",
       "\n",
       "  Q6 | JoyJoy (Mit Iodine!) Q6 | Junior Mints Q6 | Senior Mints  \\\n",
       "0                       NaN               NaN               NaN   \n",
       "1                   DESPAIR           DESPAIR           DESPAIR   \n",
       "2                       NaN               NaN               NaN   \n",
       "3                   DESPAIR           DESPAIR           DESPAIR   \n",
       "4                       MEH               JOY           DESPAIR   \n",
       "\n",
       "  Q6 | Kale smoothie Q6 | Kinder Happy Hippo Q6 | Kit Kat Q6 | LaffyTaffy  \\\n",
       "0                NaN                     NaN          NaN             NaN   \n",
       "1            DESPAIR                 DESPAIR          JOY         DESPAIR   \n",
       "2                NaN                     NaN          NaN             NaN   \n",
       "3            DESPAIR                     MEH          MEH             JOY   \n",
       "4            DESPAIR                     JOY          JOY             JOY   \n",
       "\n",
       "  Q6 | LemonHeads Q6 | Licorice (not black) Q6 | Licorice (yes black)  \\\n",
       "0             NaN                       NaN                       NaN   \n",
       "1             MEH                       MEH                       JOY   \n",
       "2             NaN                       NaN                       NaN   \n",
       "3             JOY                       MEH                       JOY   \n",
       "4             JOY                       MEH                   DESPAIR   \n",
       "\n",
       "  Q6 | Lindt Truffle Q6 | Lollipops Q6 | Mars Q6 | Maynards Q6 | Mike and Ike  \\\n",
       "0                NaN            NaN       NaN           NaN               NaN   \n",
       "1                MEH        DESPAIR   DESPAIR       DESPAIR               MEH   \n",
       "2                NaN            NaN       NaN           NaN               NaN   \n",
       "3                JOY        DESPAIR       JOY           MEH               MEH   \n",
       "4                JOY            MEH       MEH       DESPAIR               MEH   \n",
       "\n",
       "  Q6 | Milk Duds Q6 | Milky Way Q6 | Regular M&Ms Q6 | Peanut M&M’s  \\\n",
       "0            NaN            NaN               NaN               NaN   \n",
       "1            MEH            JOY               JOY               MEH   \n",
       "2            NaN            NaN               NaN               NaN   \n",
       "3        DESPAIR            JOY               MEH               JOY   \n",
       "4            MEH            JOY               JOY               JOY   \n",
       "\n",
       "  Q6 | Blue M&M's Q6 | Red M&M's Q6 | Green Party M&M's  \\\n",
       "0             NaN            NaN                    NaN   \n",
       "1             JOY            JOY                    JOY   \n",
       "2             NaN            NaN                    NaN   \n",
       "3             MEH            MEH                    MEH   \n",
       "4             JOY            JOY                    JOY   \n",
       "\n",
       "  Q6 | Independent M&M's Q6 | Abstained from M&M'ing. Q6 | Minibags of chips  \\\n",
       "0                    NaN                          NaN                    NaN   \n",
       "1                    JOY                      DESPAIR                DESPAIR   \n",
       "2                    NaN                          NaN                    NaN   \n",
       "3                    MEH                          MEH                DESPAIR   \n",
       "4                    JOY                          MEH                DESPAIR   \n",
       "\n",
       "  Q6 | Mint Kisses Q6 | Mint Juleps Q6 | Mr. Goodbar Q6 | Necco Wafers  \\\n",
       "0              NaN              NaN              NaN               NaN   \n",
       "1              MEH          DESPAIR          DESPAIR           DESPAIR   \n",
       "2              NaN              NaN              NaN               NaN   \n",
       "3          DESPAIR              MEH              MEH           DESPAIR   \n",
       "4              JOY              JOY              MEH           DESPAIR   \n",
       "\n",
       "  Q6 | Nerds Q6 | Nestle Crunch Q6 | Now'n'Laters Q6 | Peeps Q6 | Pencils  \\\n",
       "0        NaN                NaN               NaN        NaN          NaN   \n",
       "1    DESPAIR                JOY           DESPAIR    DESPAIR      DESPAIR   \n",
       "2        NaN                NaN               NaN        NaN          NaN   \n",
       "3        MEH                MEH               MEH    DESPAIR      DESPAIR   \n",
       "4        JOY                JOY               JOY        MEH      DESPAIR   \n",
       "\n",
       "  Q6 | Pixy Stix Q6 | Real Housewives of Orange County Season 9 Blue-Ray  \\\n",
       "0            NaN                                                NaN        \n",
       "1        DESPAIR                                            DESPAIR        \n",
       "2            NaN                                                NaN        \n",
       "3        DESPAIR                                            DESPAIR        \n",
       "4            JOY                                            DESPAIR        \n",
       "\n",
       "  Q6 | Reese’s Peanut Butter Cups Q6 | Reese's Pieces Q6 | Reggie Jackson Bar  \\\n",
       "0                             NaN                 NaN                     NaN   \n",
       "1                             JOY                 JOY                 DESPAIR   \n",
       "2                             NaN                 NaN                     NaN   \n",
       "3                             JOY                 MEH                     MEH   \n",
       "4                             JOY                 JOY                     MEH   \n",
       "\n",
       "  Q6 | Rolos Q6 | Sandwich-sized bags filled with BooBerry Crunch  \\\n",
       "0        NaN                                                NaN     \n",
       "1        JOY                                            DESPAIR     \n",
       "2        NaN                                                NaN     \n",
       "3        MEH                                            DESPAIR     \n",
       "4        JOY                                                NaN     \n",
       "\n",
       "  Q6 | Skittles Q6 | Smarties (American) Q6 | Smarties (Commonwealth)  \\\n",
       "0           NaN                      NaN                          NaN   \n",
       "1       DESPAIR                  DESPAIR                      DESPAIR   \n",
       "2           NaN                      NaN                          NaN   \n",
       "3       DESPAIR                  DESPAIR                          MEH   \n",
       "4           JOY                      JOY                      DESPAIR   \n",
       "\n",
       "  Q6 | Snickers Q6 | Sourpatch Kids (i.e. abominations of nature)  \\\n",
       "0           NaN                                               NaN   \n",
       "1           MEH                                           DESPAIR   \n",
       "2           NaN                                               NaN   \n",
       "3           JOY                                               MEH   \n",
       "4           NaN                                               MEH   \n",
       "\n",
       "  Q6 | Spotted Dick Q6 | Starburst Q6 | Sweet Tarts Q6 | Swedish Fish  \\\n",
       "0               NaN            NaN              NaN               NaN   \n",
       "1           DESPAIR            MEH          DESPAIR               MEH   \n",
       "2               NaN            NaN              NaN               NaN   \n",
       "3           DESPAIR            MEH              MEH               JOY   \n",
       "4           DESPAIR            JOY              JOY               MEH   \n",
       "\n",
       "  Q6 | Sweetums (a friend to diabetes) Q6 | Take 5 Q6 | Tic Tacs  \\\n",
       "0                                  NaN         NaN           NaN   \n",
       "1                              DESPAIR     DESPAIR       DESPAIR   \n",
       "2                                  NaN         NaN           NaN   \n",
       "3                                  MEH         JOY           MEH   \n",
       "4                              DESPAIR         MEH       DESPAIR   \n",
       "\n",
       "  Q6 | Those odd marshmallow circus peanut things Q6 | Three Musketeers  \\\n",
       "0                                             NaN                   NaN   \n",
       "1                                         DESPAIR                   JOY   \n",
       "2                                             NaN                   NaN   \n",
       "3                                         DESPAIR               DESPAIR   \n",
       "4                                         DESPAIR                   JOY   \n",
       "\n",
       "  Q6 | Tolberone something or other Q6 | Trail Mix Q6 | Twix  \\\n",
       "0                               NaN            NaN       NaN   \n",
       "1                               JOY        DESPAIR       JOY   \n",
       "2                               NaN            NaN       NaN   \n",
       "3                               JOY            MEH       JOY   \n",
       "4                               JOY        DESPAIR       JOY   \n",
       "\n",
       "  Q6 | Vials of pure high fructose corn syrup, for main-lining into your vein  \\\n",
       "0                                                NaN                            \n",
       "1                                            DESPAIR                            \n",
       "2                                                NaN                            \n",
       "3                                            DESPAIR                            \n",
       "4                                                MEH                            \n",
       "\n",
       "  Q6 | Vicodin Q6 | Whatchamacallit Bars Q6 | White Bread  \\\n",
       "0          NaN                       NaN              NaN   \n",
       "1      DESPAIR                   DESPAIR          DESPAIR   \n",
       "2          NaN                       NaN              NaN   \n",
       "3          JOY                       JOY          DESPAIR   \n",
       "4          JOY                       JOY          DESPAIR   \n",
       "\n",
       "  Q6 | Whole Wheat anything Q6 | York Peppermint Patties  \n",
       "0                       NaN                          NaN  \n",
       "1                   DESPAIR                      DESPAIR  \n",
       "2                       NaN                          NaN  \n",
       "3                   DESPAIR                      DESPAIR  \n",
       "4                   DESPAIR                          JOY  "
      ]
     },
     "execution_count": 51,
     "metadata": {},
     "output_type": "execute_result"
    }
   ],
   "source": [
    "Q6 = df.loc[:,[x for x in df.columns if 'Q6' in x]].copy()\n",
    "Q6.head()"
   ]
  },
  {
   "cell_type": "markdown",
   "id": "197ad0ed",
   "metadata": {
    "id": "197ad0ed"
   },
   "source": [
    "fill na with random choice of the original three"
   ]
  },
  {
   "cell_type": "code",
   "execution_count": 52,
   "id": "14a2da66",
   "metadata": {
    "id": "14a2da66"
   },
   "outputs": [],
   "source": [
    "Q6.fillna('MEH',inplace = True)"
   ]
  },
  {
   "cell_type": "markdown",
   "id": "2fba184f",
   "metadata": {
    "id": "2fba184f"
   },
   "source": [
    "make the values numirecal to compute wich candy is better and wich is worse"
   ]
  },
  {
   "cell_type": "code",
   "execution_count": 53,
   "id": "d38038e2",
   "metadata": {
    "colab": {
     "base_uri": "https://localhost:8080/"
    },
    "id": "d38038e2",
    "outputId": "3c4df457-bd51-44e4-884c-b0c94a5cb10e"
   },
   "outputs": [
    {
     "data": {
      "text/plain": [
       "Q6 | Any full-sized candy bar                              1542\n",
       "Q6 | Reese’s Peanut Butter Cups                            1403\n",
       "Q6 | Kit Kat                                               1395\n",
       "Q6 | Cash, or other forms of legal tender                  1374\n",
       "Q6 | Twix                                                  1342\n",
       "                                                           ... \n",
       "Q6 | Dental paraphenalia                                  -1342\n",
       "Q6 | Real Housewives of Orange County Season 9 Blue-Ray   -1389\n",
       "Q6 | White Bread                                          -1411\n",
       "Q6 | Gum from baseball cards                              -1418\n",
       "Q6 | Broken glow stick                                    -1601\n",
       "Length: 103, dtype: int64"
      ]
     },
     "execution_count": 53,
     "metadata": {},
     "output_type": "execute_result"
    }
   ],
   "source": [
    "Q6.replace({'MEH': 0,'JOY': 1,'DESPAIR': -1},inplace = True)\n",
    "Q6.sum().sort_values(ascending = False)"
   ]
  },
  {
   "cell_type": "markdown",
   "id": "44935f76",
   "metadata": {
    "id": "44935f76"
   },
   "source": [
    "make a new data frame with the candy name and the candy score"
   ]
  },
  {
   "cell_type": "code",
   "execution_count": 54,
   "id": "69b02e6d",
   "metadata": {
    "colab": {
     "base_uri": "https://localhost:8080/",
     "height": 424
    },
    "id": "69b02e6d",
    "outputId": "dd6997b6-48b2-4319-ab84-f557b02161f3"
   },
   "outputs": [
    {
     "data": {
      "text/html": [
       "<div>\n",
       "<style scoped>\n",
       "    .dataframe tbody tr th:only-of-type {\n",
       "        vertical-align: middle;\n",
       "    }\n",
       "\n",
       "    .dataframe tbody tr th {\n",
       "        vertical-align: top;\n",
       "    }\n",
       "\n",
       "    .dataframe thead th {\n",
       "        text-align: right;\n",
       "    }\n",
       "</style>\n",
       "<table border=\"1\" class=\"dataframe\">\n",
       "  <thead>\n",
       "    <tr style=\"text-align: right;\">\n",
       "      <th></th>\n",
       "      <th>candy name</th>\n",
       "      <th>candy score</th>\n",
       "    </tr>\n",
       "  </thead>\n",
       "  <tbody>\n",
       "    <tr>\n",
       "      <th>0</th>\n",
       "      <td>Any full-sized candy bar</td>\n",
       "      <td>1542</td>\n",
       "    </tr>\n",
       "    <tr>\n",
       "      <th>1</th>\n",
       "      <td>Reese’s Peanut Butter Cups</td>\n",
       "      <td>1403</td>\n",
       "    </tr>\n",
       "    <tr>\n",
       "      <th>2</th>\n",
       "      <td>Kit Kat</td>\n",
       "      <td>1395</td>\n",
       "    </tr>\n",
       "    <tr>\n",
       "      <th>3</th>\n",
       "      <td>Cash, or other forms of legal tender</td>\n",
       "      <td>1374</td>\n",
       "    </tr>\n",
       "    <tr>\n",
       "      <th>4</th>\n",
       "      <td>Twix</td>\n",
       "      <td>1342</td>\n",
       "    </tr>\n",
       "    <tr>\n",
       "      <th>...</th>\n",
       "      <td>...</td>\n",
       "      <td>...</td>\n",
       "    </tr>\n",
       "    <tr>\n",
       "      <th>98</th>\n",
       "      <td>Dental paraphenalia</td>\n",
       "      <td>-1342</td>\n",
       "    </tr>\n",
       "    <tr>\n",
       "      <th>99</th>\n",
       "      <td>Real Housewives of Orange County Season 9 Blue...</td>\n",
       "      <td>-1389</td>\n",
       "    </tr>\n",
       "    <tr>\n",
       "      <th>100</th>\n",
       "      <td>White Bread</td>\n",
       "      <td>-1411</td>\n",
       "    </tr>\n",
       "    <tr>\n",
       "      <th>101</th>\n",
       "      <td>Gum from baseball cards</td>\n",
       "      <td>-1418</td>\n",
       "    </tr>\n",
       "    <tr>\n",
       "      <th>102</th>\n",
       "      <td>Broken glow stick</td>\n",
       "      <td>-1601</td>\n",
       "    </tr>\n",
       "  </tbody>\n",
       "</table>\n",
       "<p>103 rows × 2 columns</p>\n",
       "</div>"
      ],
      "text/plain": [
       "                                            candy name  candy score\n",
       "0                             Any full-sized candy bar         1542\n",
       "1                           Reese’s Peanut Butter Cups         1403\n",
       "2                                              Kit Kat         1395\n",
       "3                 Cash, or other forms of legal tender         1374\n",
       "4                                                 Twix         1342\n",
       "..                                                 ...          ...\n",
       "98                                 Dental paraphenalia        -1342\n",
       "99   Real Housewives of Orange County Season 9 Blue...        -1389\n",
       "100                                        White Bread        -1411\n",
       "101                            Gum from baseball cards        -1418\n",
       "102                                  Broken glow stick        -1601\n",
       "\n",
       "[103 rows x 2 columns]"
      ]
     },
     "execution_count": 54,
     "metadata": {},
     "output_type": "execute_result"
    }
   ],
   "source": [
    "candy_list = Q6.columns.values.tolist()\n",
    "candy_score = Q6.sum().tolist()\n",
    "candy_taple = zip(candy_list,candy_score)\n",
    "candy_df = pd.DataFrame(candy_taple , columns = ['candy name','candy score'])\n",
    "candy_df.sort_values('candy score', ascending = False , inplace = True)\n",
    "candy_df['candy name']=candy_df['candy name'].apply(lambda z : z.strip('Q6 | '))\n",
    "candy_df.reset_index(drop = True,inplace = True)\n",
    "candy_df"
   ]
  },
  {
   "cell_type": "markdown",
   "id": "7d130a5b",
   "metadata": {
    "id": "7d130a5b"
   },
   "source": [
    "The top 10 candies"
   ]
  },
  {
   "cell_type": "code",
   "execution_count": 55,
   "id": "fd47a7e6",
   "metadata": {
    "colab": {
     "base_uri": "https://localhost:8080/",
     "height": 363
    },
    "id": "fd47a7e6",
    "outputId": "50f68be9-5bb8-46fd-eb8a-0581e99e3ebc"
   },
   "outputs": [
    {
     "data": {
      "text/html": [
       "<div>\n",
       "<style scoped>\n",
       "    .dataframe tbody tr th:only-of-type {\n",
       "        vertical-align: middle;\n",
       "    }\n",
       "\n",
       "    .dataframe tbody tr th {\n",
       "        vertical-align: top;\n",
       "    }\n",
       "\n",
       "    .dataframe thead th {\n",
       "        text-align: right;\n",
       "    }\n",
       "</style>\n",
       "<table border=\"1\" class=\"dataframe\">\n",
       "  <thead>\n",
       "    <tr style=\"text-align: right;\">\n",
       "      <th></th>\n",
       "      <th>candy name</th>\n",
       "      <th>candy score</th>\n",
       "    </tr>\n",
       "  </thead>\n",
       "  <tbody>\n",
       "    <tr>\n",
       "      <th>0</th>\n",
       "      <td>Any full-sized candy bar</td>\n",
       "      <td>1542</td>\n",
       "    </tr>\n",
       "    <tr>\n",
       "      <th>1</th>\n",
       "      <td>Reese’s Peanut Butter Cups</td>\n",
       "      <td>1403</td>\n",
       "    </tr>\n",
       "    <tr>\n",
       "      <th>2</th>\n",
       "      <td>Kit Kat</td>\n",
       "      <td>1395</td>\n",
       "    </tr>\n",
       "    <tr>\n",
       "      <th>3</th>\n",
       "      <td>Cash, or other forms of legal tender</td>\n",
       "      <td>1374</td>\n",
       "    </tr>\n",
       "    <tr>\n",
       "      <th>4</th>\n",
       "      <td>Twix</td>\n",
       "      <td>1342</td>\n",
       "    </tr>\n",
       "    <tr>\n",
       "      <th>5</th>\n",
       "      <td>Snickers</td>\n",
       "      <td>1320</td>\n",
       "    </tr>\n",
       "    <tr>\n",
       "      <th>6</th>\n",
       "      <td>Tolberone something or other</td>\n",
       "      <td>1236</td>\n",
       "    </tr>\n",
       "    <tr>\n",
       "      <th>7</th>\n",
       "      <td>Lindt Truffle</td>\n",
       "      <td>1179</td>\n",
       "    </tr>\n",
       "    <tr>\n",
       "      <th>8</th>\n",
       "      <td>Peanut M&amp;M’s</td>\n",
       "      <td>1170</td>\n",
       "    </tr>\n",
       "    <tr>\n",
       "      <th>9</th>\n",
       "      <td>Nestle Crunch</td>\n",
       "      <td>1086</td>\n",
       "    </tr>\n",
       "  </tbody>\n",
       "</table>\n",
       "</div>"
      ],
      "text/plain": [
       "                             candy name  candy score\n",
       "0              Any full-sized candy bar         1542\n",
       "1            Reese’s Peanut Butter Cups         1403\n",
       "2                               Kit Kat         1395\n",
       "3  Cash, or other forms of legal tender         1374\n",
       "4                                  Twix         1342\n",
       "5                              Snickers         1320\n",
       "6          Tolberone something or other         1236\n",
       "7                         Lindt Truffle         1179\n",
       "8                          Peanut M&M’s         1170\n",
       "9                         Nestle Crunch         1086"
      ]
     },
     "execution_count": 55,
     "metadata": {},
     "output_type": "execute_result"
    }
   ],
   "source": [
    "best_10 = candy_df.iloc[0:10]\n",
    "best_10"
   ]
  },
  {
   "cell_type": "code",
   "execution_count": 56,
   "id": "1f08a344",
   "metadata": {
    "colab": {
     "base_uri": "https://localhost:8080/",
     "height": 746
    },
    "id": "1f08a344",
    "outputId": "148f3e6a-d430-44bd-c65d-16c75c3645c0"
   },
   "outputs": [
    {
     "data": {
      "image/png": "[encoded data removed]",
      "text/plain": [
       "<Figure size 360x360 with 1 Axes>"
      ]
     },
     "metadata": {},
     "output_type": "display_data"
    }
   ],
   "source": [
    "#best 10 candies\n",
    "p = sns.catplot(x ='candy name' , y = 'candy score', data = best_10 ,kind = 'bar',palette = 'mako' )\n",
    "p.fig.suptitle('best 10', x= 1)\n",
    "plt.xticks(rotation = 90)\n",
    "plt.show()"
   ]
  },
  {
   "cell_type": "markdown",
   "id": "88bf5cfd",
   "metadata": {
    "id": "88bf5cfd"
   },
   "source": [
    "the worst 10 candies"
   ]
  },
  {
   "cell_type": "code",
   "execution_count": 57,
   "id": "c766c6a1",
   "metadata": {
    "colab": {
     "base_uri": "https://localhost:8080/",
     "height": 363
    },
    "id": "c766c6a1",
    "outputId": "e5e153d4-23ce-4b6a-df05-62ff18636372"
   },
   "outputs": [
    {
     "data": {
      "text/html": [
       "<div>\n",
       "<style scoped>\n",
       "    .dataframe tbody tr th:only-of-type {\n",
       "        vertical-align: middle;\n",
       "    }\n",
       "\n",
       "    .dataframe tbody tr th {\n",
       "        vertical-align: top;\n",
       "    }\n",
       "\n",
       "    .dataframe thead th {\n",
       "        text-align: right;\n",
       "    }\n",
       "</style>\n",
       "<table border=\"1\" class=\"dataframe\">\n",
       "  <thead>\n",
       "    <tr style=\"text-align: right;\">\n",
       "      <th></th>\n",
       "      <th>candy name</th>\n",
       "      <th>candy score</th>\n",
       "    </tr>\n",
       "  </thead>\n",
       "  <tbody>\n",
       "    <tr>\n",
       "      <th>102</th>\n",
       "      <td>Broken glow stick</td>\n",
       "      <td>-1601</td>\n",
       "    </tr>\n",
       "    <tr>\n",
       "      <th>101</th>\n",
       "      <td>Gum from baseball cards</td>\n",
       "      <td>-1418</td>\n",
       "    </tr>\n",
       "    <tr>\n",
       "      <th>100</th>\n",
       "      <td>White Bread</td>\n",
       "      <td>-1411</td>\n",
       "    </tr>\n",
       "    <tr>\n",
       "      <th>99</th>\n",
       "      <td>Real Housewives of Orange County Season 9 Blue...</td>\n",
       "      <td>-1389</td>\n",
       "    </tr>\n",
       "    <tr>\n",
       "      <th>98</th>\n",
       "      <td>Dental paraphenalia</td>\n",
       "      <td>-1342</td>\n",
       "    </tr>\n",
       "    <tr>\n",
       "      <th>97</th>\n",
       "      <td>Kale smoothie</td>\n",
       "      <td>-1327</td>\n",
       "    </tr>\n",
       "    <tr>\n",
       "      <th>96</th>\n",
       "      <td>Candy that is clearly just the stuff given out...</td>\n",
       "      <td>-1286</td>\n",
       "    </tr>\n",
       "    <tr>\n",
       "      <th>95</th>\n",
       "      <td>Whole Wheat anything</td>\n",
       "      <td>-1172</td>\n",
       "    </tr>\n",
       "    <tr>\n",
       "      <th>94</th>\n",
       "      <td>Creepy Religious comics/Chick Tracts</td>\n",
       "      <td>-1160</td>\n",
       "    </tr>\n",
       "    <tr>\n",
       "      <th>93</th>\n",
       "      <td>Those odd marshmallow circus peanut things</td>\n",
       "      <td>-1063</td>\n",
       "    </tr>\n",
       "  </tbody>\n",
       "</table>\n",
       "</div>"
      ],
      "text/plain": [
       "                                            candy name  candy score\n",
       "102                                  Broken glow stick        -1601\n",
       "101                            Gum from baseball cards        -1418\n",
       "100                                        White Bread        -1411\n",
       "99   Real Housewives of Orange County Season 9 Blue...        -1389\n",
       "98                                 Dental paraphenalia        -1342\n",
       "97                                       Kale smoothie        -1327\n",
       "96   Candy that is clearly just the stuff given out...        -1286\n",
       "95                                Whole Wheat anything        -1172\n",
       "94                Creepy Religious comics/Chick Tracts        -1160\n",
       "93          Those odd marshmallow circus peanut things        -1063"
      ]
     },
     "execution_count": 57,
     "metadata": {},
     "output_type": "execute_result"
    }
   ],
   "source": [
    "#worst 10 candies\n",
    "worst_10 = candy_df.iloc[103:92:-1]\n",
    "worst_10"
   ]
  },
  {
   "cell_type": "code",
   "execution_count": 75,
   "id": "6b57d007",
   "metadata": {
    "colab": {
     "base_uri": "https://localhost:8080/",
     "height": 961
    },
    "id": "6b57d007",
    "outputId": "4041a41e-2e6f-4633-d166-97dc5939af67"
   },
   "outputs": [
    {
     "data": {
      "image/png": "[encoded data removed]",
      "text/plain": [
       "<Figure size 360x360 with 1 Axes>"
      ]
     },
     "metadata": {},
     "output_type": "display_data"
    }
   ],
   "source": [
    "p = sns.catplot(y ='candy score' , x = 'candy name', data = worst_10 ,kind = 'bar',palette = 'mako' )\n",
    "p.fig.suptitle('Worst 10', x= 1)\n",
    "plt.xticks(rotation = 90)\n",
    "plt.show()"
   ]
  },
  {
   "cell_type": "code",
   "execution_count": 59,
   "id": "115e1d4f",
   "metadata": {
    "colab": {
     "base_uri": "https://localhost:8080/"
    },
    "id": "115e1d4f",
    "outputId": "cd6f1dc0-1bd7-4fed-ece2-9316da72aa06"
   },
   "outputs": [
    {
     "data": {
      "text/plain": [
       "Q10: DRESS                 0.302439\n",
       "Q11: DAY                   0.294715\n",
       "Q12: MEDIA [Daily Dish]    0.965447\n",
       "Q12: MEDIA [Science]       0.446341\n",
       "Q12: MEDIA [ESPN]          0.959756\n",
       "Q12: MEDIA [Yahoo]         0.972764\n",
       "dtype: float64"
      ]
     },
     "execution_count": 59,
     "metadata": {},
     "output_type": "execute_result"
    }
   ],
   "source": [
    "#see the sum of null values to complete cleaning\n",
    "df.isna().sum().tail(6) / len(df)"
   ]
  },
  {
   "cell_type": "markdown",
   "id": "ee1830fb",
   "metadata": {
    "id": "ee1830fb"
   },
   "source": [
    "cleaning Q10"
   ]
  },
  {
   "cell_type": "code",
   "execution_count": 60,
   "id": "770b0f36",
   "metadata": {
    "colab": {
     "base_uri": "https://localhost:8080/"
    },
    "id": "770b0f36",
    "outputId": "2cfdd211-3443-4792-865e-272524e1b0e7"
   },
   "outputs": [
    {
     "data": {
      "text/plain": [
       "array([nan, 'White and gold', 'Blue and black'], dtype=object)"
      ]
     },
     "execution_count": 60,
     "metadata": {},
     "output_type": "execute_result"
    }
   ],
   "source": [
    "df['Q10: DRESS'].unique()"
   ]
  },
  {
   "cell_type": "code",
   "execution_count": 61,
   "id": "95054184",
   "metadata": {
    "colab": {
     "base_uri": "https://localhost:8080/"
    },
    "id": "95054184",
    "outputId": "1de4d64e-a24e-4193-f7dd-e32d1e461085"
   },
   "outputs": [
    {
     "data": {
      "text/plain": [
       "White and gold    1081\n",
       "Blue and black     635\n",
       "Name: Q10: DRESS, dtype: int64"
      ]
     },
     "execution_count": 61,
     "metadata": {},
     "output_type": "execute_result"
    }
   ],
   "source": [
    "df['Q10: DRESS'].value_counts()"
   ]
  },
  {
   "cell_type": "code",
   "execution_count": 62,
   "id": "7dccfa5a",
   "metadata": {
    "id": "7dccfa5a"
   },
   "outputs": [],
   "source": [
    "#i will replace the null values with the mode\n",
    "df['Q10: DRESS'].fillna(df['Q10: DRESS'].mode()[0],inplace = True )"
   ]
  },
  {
   "cell_type": "code",
   "execution_count": 63,
   "id": "4cd28626",
   "metadata": {
    "colab": {
     "base_uri": "https://localhost:8080/"
    },
    "id": "4cd28626",
    "outputId": "fbabc31e-7912-468b-d9dd-959a5021cf42"
   },
   "outputs": [
    {
     "data": {
      "text/plain": [
       "White and gold    1825\n",
       "Blue and black     635\n",
       "Name: Q10: DRESS, dtype: int64"
      ]
     },
     "execution_count": 63,
     "metadata": {},
     "output_type": "execute_result"
    }
   ],
   "source": [
    "df['Q10: DRESS'].value_counts()"
   ]
  },
  {
   "cell_type": "markdown",
   "id": "81f7be60",
   "metadata": {
    "id": "81f7be60"
   },
   "source": [
    "How does people see the dress"
   ]
  },
  {
   "cell_type": "code",
   "execution_count": 64,
   "id": "16c6de2e",
   "metadata": {
    "colab": {
     "base_uri": "https://localhost:8080/",
     "height": 613
    },
    "id": "16c6de2e",
    "outputId": "3597797a-3194-4646-c9f9-e2430d089423"
   },
   "outputs": [
    {
     "data": {
      "text/plain": [
       "<function matplotlib.pyplot.show(close=None, block=None)>"
      ]
     },
     "execution_count": 64,
     "metadata": {},
     "output_type": "execute_result"
    },
    {
     "data": {
      "image/png": "[encoded data removed]",
      "text/plain": [
       "<Figure size 1152x432 with 1 Axes>"
      ]
     },
     "metadata": {},
     "output_type": "display_data"
    }
   ],
   "source": [
    "sns.countplot(x = 'Q10: DRESS' , data = df  ,order = df['Q10: DRESS'].value_counts().index ,palette = 'mako')\n",
    "plt.xticks(rotation = 90)\n",
    "plt.show"
   ]
  },
  {
   "cell_type": "code",
   "execution_count": 65,
   "id": "Y_lijeqWyEoY",
   "metadata": {
    "colab": {
     "base_uri": "https://localhost:8080/",
     "height": 517
    },
    "id": "Y_lijeqWyEoY",
    "outputId": "8b49bafe-9a3d-4e75-bbdf-781615e663e9"
   },
   "outputs": [
    {
     "data": {
      "image/png": "[encoded data removed]",
      "text/plain": [
       "<Figure size 1152x432 with 1 Axes>"
      ]
     },
     "metadata": {},
     "output_type": "display_data"
    }
   ],
   "source": [
    "sns.barplot(data=df,x=\"Q2: GENDER\",y=\"Q3: AGE\",hue='Q10: DRESS',palette = 'mako')\n",
    "plt.show()"
   ]
  },
  {
   "cell_type": "markdown",
   "id": "3fe3add8",
   "metadata": {
    "id": "3fe3add8"
   },
   "source": [
    "cleaning Q11"
   ]
  },
  {
   "cell_type": "code",
   "execution_count": 66,
   "id": "d80c74a1",
   "metadata": {
    "colab": {
     "base_uri": "https://localhost:8080/"
    },
    "id": "d80c74a1",
    "outputId": "7a533491-272e-497d-d953-70f6b59a0c45"
   },
   "outputs": [
    {
     "data": {
      "text/plain": [
       "array([nan, 'Sunday', 'Friday'], dtype=object)"
      ]
     },
     "execution_count": 66,
     "metadata": {},
     "output_type": "execute_result"
    }
   ],
   "source": [
    "df['Q11: DAY'].unique()"
   ]
  },
  {
   "cell_type": "code",
   "execution_count": 67,
   "id": "90b2f5c7",
   "metadata": {
    "id": "90b2f5c7"
   },
   "outputs": [],
   "source": [
    "# i will fill null values here with ('other days')\n",
    "df['Q11: DAY'].fillna(\"other days\",inplace = True)"
   ]
  },
  {
   "cell_type": "code",
   "execution_count": 68,
   "id": "56ca17b7",
   "metadata": {
    "colab": {
     "base_uri": "https://localhost:8080/",
     "height": 584
    },
    "id": "56ca17b7",
    "outputId": "9d68323f-f9ad-46f9-e32c-e2b6c94ab66d"
   },
   "outputs": [
    {
     "data": {
      "text/plain": [
       "<function matplotlib.pyplot.show(close=None, block=None)>"
      ]
     },
     "execution_count": 68,
     "metadata": {},
     "output_type": "execute_result"
    },
    {
     "data": {
      "image/png": "[encoded data removed]",
      "text/plain": [
       "<Figure size 1152x432 with 1 Axes>"
      ]
     },
     "metadata": {},
     "output_type": "display_data"
    }
   ],
   "source": [
    "sns.countplot(x = 'Q11: DAY' , data = df  ,order = df['Q11: DAY'].value_counts().index,palette = 'mako' )\n",
    "plt.xticks(rotation = 90)\n",
    "plt.show"
   ]
  },
  {
   "cell_type": "code",
   "execution_count": 69,
   "id": "r88Kgyyjy2vG",
   "metadata": {
    "colab": {
     "base_uri": "https://localhost:8080/",
     "height": 517
    },
    "id": "r88Kgyyjy2vG",
    "outputId": "509f97bc-7b83-442d-964e-7e6f1f133126"
   },
   "outputs": [
    {
     "data": {
      "image/png": "[encoded data removed]",
      "text/plain": [
       "<Figure size 1152x432 with 1 Axes>"
      ]
     },
     "metadata": {},
     "output_type": "display_data"
    }
   ],
   "source": [
    "sns.barplot(data=df,x=\"Q2: GENDER\",y=\"Q3: AGE\",hue='Q11: DAY',palette = 'mako')\n",
    "plt.show()"
   ]
  },
  {
   "cell_type": "code",
   "execution_count": 70,
   "id": "66414343",
   "metadata": {
    "colab": {
     "base_uri": "https://localhost:8080/",
     "height": 499
    },
    "id": "66414343",
    "outputId": "fdd089c2-4d0e-4f54-e725-a46f6d27a1f2"
   },
   "outputs": [
    {
     "data": {
      "image/png": "[encoded data removed]",
      "text/plain": [
       "<Figure size 1152x432 with 1 Axes>"
      ]
     },
     "metadata": {},
     "output_type": "display_data"
    }
   ],
   "source": [
    "plt.pie(df['Q11: DAY'].value_counts(), labels =['Friday','Sunday','other days'])\n",
    "plt.show()"
   ]
  },
  {
   "cell_type": "markdown",
   "id": "30a0ec55",
   "metadata": {
    "id": "30a0ec55"
   },
   "source": [
    "make a new data frame for Q12"
   ]
  },
  {
   "cell_type": "code",
   "execution_count": 71,
   "id": "9c986bf2",
   "metadata": {
    "colab": {
     "base_uri": "https://localhost:8080/",
     "height": 206
    },
    "id": "9c986bf2",
    "outputId": "93af906d-6cc9-4870-c576-b8701d62f8d5"
   },
   "outputs": [
    {
     "data": {
      "text/html": [
       "<div>\n",
       "<style scoped>\n",
       "    .dataframe tbody tr th:only-of-type {\n",
       "        vertical-align: middle;\n",
       "    }\n",
       "\n",
       "    .dataframe tbody tr th {\n",
       "        vertical-align: top;\n",
       "    }\n",
       "\n",
       "    .dataframe thead th {\n",
       "        text-align: right;\n",
       "    }\n",
       "</style>\n",
       "<table border=\"1\" class=\"dataframe\">\n",
       "  <thead>\n",
       "    <tr style=\"text-align: right;\">\n",
       "      <th></th>\n",
       "      <th>Q12: MEDIA [Daily Dish]</th>\n",
       "      <th>Q12: MEDIA [Science]</th>\n",
       "      <th>Q12: MEDIA [ESPN]</th>\n",
       "      <th>Q12: MEDIA [Yahoo]</th>\n",
       "    </tr>\n",
       "  </thead>\n",
       "  <tbody>\n",
       "    <tr>\n",
       "      <th>0</th>\n",
       "      <td>NaN</td>\n",
       "      <td>NaN</td>\n",
       "      <td>NaN</td>\n",
       "      <td>NaN</td>\n",
       "    </tr>\n",
       "    <tr>\n",
       "      <th>1</th>\n",
       "      <td>NaN</td>\n",
       "      <td>1.0</td>\n",
       "      <td>NaN</td>\n",
       "      <td>NaN</td>\n",
       "    </tr>\n",
       "    <tr>\n",
       "      <th>2</th>\n",
       "      <td>NaN</td>\n",
       "      <td>NaN</td>\n",
       "      <td>NaN</td>\n",
       "      <td>NaN</td>\n",
       "    </tr>\n",
       "    <tr>\n",
       "      <th>3</th>\n",
       "      <td>NaN</td>\n",
       "      <td>1.0</td>\n",
       "      <td>NaN</td>\n",
       "      <td>NaN</td>\n",
       "    </tr>\n",
       "    <tr>\n",
       "      <th>4</th>\n",
       "      <td>NaN</td>\n",
       "      <td>1.0</td>\n",
       "      <td>NaN</td>\n",
       "      <td>NaN</td>\n",
       "    </tr>\n",
       "  </tbody>\n",
       "</table>\n",
       "</div>"
      ],
      "text/plain": [
       "   Q12: MEDIA [Daily Dish]  Q12: MEDIA [Science]  Q12: MEDIA [ESPN]  \\\n",
       "0                      NaN                   NaN                NaN   \n",
       "1                      NaN                   1.0                NaN   \n",
       "2                      NaN                   NaN                NaN   \n",
       "3                      NaN                   1.0                NaN   \n",
       "4                      NaN                   1.0                NaN   \n",
       "\n",
       "   Q12: MEDIA [Yahoo]  \n",
       "0                 NaN  \n",
       "1                 NaN  \n",
       "2                 NaN  \n",
       "3                 NaN  \n",
       "4                 NaN  "
      ]
     },
     "execution_count": 71,
     "metadata": {},
     "output_type": "execute_result"
    }
   ],
   "source": [
    "Q12 = df.loc[:,[x for x in df.columns if 'Q12' in x]].copy()\n",
    "Q12.head()"
   ]
  },
  {
   "cell_type": "code",
   "execution_count": 72,
   "id": "99c74f42",
   "metadata": {
    "colab": {
     "base_uri": "https://localhost:8080/"
    },
    "id": "99c74f42",
    "outputId": "08a5be05-94d9-47ec-899a-30a6e83ec65f"
   },
   "outputs": [
    {
     "data": {
      "text/plain": [
       "Q12: MEDIA [Daily Dish]      85.0\n",
       "Q12: MEDIA [Science]       1362.0\n",
       "Q12: MEDIA [ESPN]            99.0\n",
       "Q12: MEDIA [Yahoo]           67.0\n",
       "dtype: float64"
      ]
     },
     "execution_count": 72,
     "metadata": {},
     "output_type": "execute_result"
    }
   ],
   "source": [
    "Q12.sum()"
   ]
  },
  {
   "cell_type": "markdown",
   "id": "0d4cc766",
   "metadata": {
    "id": "0d4cc766"
   },
   "source": [
    "to see the score of eatch media i will make a new data frame with the media name and media score"
   ]
  },
  {
   "cell_type": "code",
   "execution_count": 73,
   "id": "0ff96604",
   "metadata": {
    "colab": {
     "base_uri": "https://localhost:8080/",
     "height": 175
    },
    "id": "0ff96604",
    "outputId": "4b3c7df0-818d-4244-d599-dde687cdc10b"
   },
   "outputs": [
    {
     "data": {
      "text/html": [
       "<div>\n",
       "<style scoped>\n",
       "    .dataframe tbody tr th:only-of-type {\n",
       "        vertical-align: middle;\n",
       "    }\n",
       "\n",
       "    .dataframe tbody tr th {\n",
       "        vertical-align: top;\n",
       "    }\n",
       "\n",
       "    .dataframe thead th {\n",
       "        text-align: right;\n",
       "    }\n",
       "</style>\n",
       "<table border=\"1\" class=\"dataframe\">\n",
       "  <thead>\n",
       "    <tr style=\"text-align: right;\">\n",
       "      <th></th>\n",
       "      <th>media name</th>\n",
       "      <th>media score</th>\n",
       "    </tr>\n",
       "  </thead>\n",
       "  <tbody>\n",
       "    <tr>\n",
       "      <th>0</th>\n",
       "      <td>Science</td>\n",
       "      <td>1362.0</td>\n",
       "    </tr>\n",
       "    <tr>\n",
       "      <th>1</th>\n",
       "      <td>ESPN</td>\n",
       "      <td>99.0</td>\n",
       "    </tr>\n",
       "    <tr>\n",
       "      <th>2</th>\n",
       "      <td>Daily Dish</td>\n",
       "      <td>85.0</td>\n",
       "    </tr>\n",
       "    <tr>\n",
       "      <th>3</th>\n",
       "      <td>Yahoo</td>\n",
       "      <td>67.0</td>\n",
       "    </tr>\n",
       "  </tbody>\n",
       "</table>\n",
       "</div>"
      ],
      "text/plain": [
       "   media name  media score\n",
       "0     Science       1362.0\n",
       "1        ESPN         99.0\n",
       "2  Daily Dish         85.0\n",
       "3       Yahoo         67.0"
      ]
     },
     "execution_count": 73,
     "metadata": {},
     "output_type": "execute_result"
    }
   ],
   "source": [
    "media_list = Q12.columns.values.tolist()\n",
    "media_score = Q12.sum().tolist()\n",
    "media_taple = zip(media_list,media_score)\n",
    "media_df = pd.DataFrame(media_taple , columns = ['media name','media score'])\n",
    "media_df.sort_values('media score', ascending = False , inplace = True)\n",
    "media_df['media name']=media_df['media name'].apply(lambda z : z.split('A')[1].strip(' []'))\n",
    "media_df.reset_index(drop = True,inplace = True)\n",
    "media_df"
   ]
  },
  {
   "cell_type": "markdown",
   "id": "b03689a3",
   "metadata": {
    "id": "b03689a3"
   },
   "source": [
    "pie plot to visualize answer the qistion (\"what would most of people choose to enter?\")"
   ]
  },
  {
   "cell_type": "code",
   "execution_count": 74,
   "id": "57459f66",
   "metadata": {
    "colab": {
     "base_uri": "https://localhost:8080/",
     "height": 499
    },
    "id": "57459f66",
    "outputId": "e50a9a8a-1639-466d-b14b-bf31b29b8079",
    "scrolled": true
   },
   "outputs": [
    {
     "data": {
      "image/png": "[encoded data removed]",
      "text/plain": [
       "<Figure size 1152x432 with 1 Axes>"
      ]
     },
     "metadata": {},
     "output_type": "display_data"
    }
   ],
   "source": [
    "plt.pie(media_df['media score'], labels = media_df['media name'])\n",
    "plt.show()"
   ]
  },
  {
   "cell_type": "markdown",
   "id": "208129c4",
   "metadata": {
    "id": "208129c4"
   },
   "source": [
    "# summary"
   ]
  },
  {
   "cell_type": "markdown",
   "id": "650d373b",
   "metadata": {
    "id": "650d373b"
   },
   "source": [
    "I cleaned the data so there will be no more missing values or duplicates,\n",
    "also i showed up the most and the least loved candy ,\n",
    "The most preferred day , how do most of people see the dress and what media site people would prefer to enter"
   ]
  },
  {
   "cell_type": "markdown",
   "id": "19549aec",
   "metadata": {
    "id": "19549aec"
   },
   "source": [
    "and there is more like :\n",
    "most people who made this survey are male\n",
    "most people  are not going trick or treating \n",
    "the average age for those who take the survey is 42 years old\n",
    "most of people who done this survey are from USA"
   ]
  }
 ],
 "metadata": {
  "colab": {
   "provenance": []
  },
  "kernelspec": {
   "display_name": "Python 3 (ipykernel)",
   "language": "python",
   "name": "python3"
  },
  "language_info": {
   "codemirror_mode": {
    "name": "ipython",
    "version": 3
   },
   "file_extension": ".py",
   "mimetype": "text/x-python",
   "name": "python",
   "nbconvert_exporter": "python",
   "pygments_lexer": "ipython3",
   "version": "3.9.12"
  }
 },
 "nbformat": 4,
 "nbformat_minor": 5
}
